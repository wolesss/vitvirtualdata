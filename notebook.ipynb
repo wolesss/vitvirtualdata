{
  "cells": [
    {
      "cell_type": "markdown",
      "metadata": {
        "id": "H9wADwK78DCz"
      },
      "source": [
        "# Proyek Analisis Data: [Brazilian E-Commerce Public Dataset by Olist]\n",
        "- **Nama:** [Vito Putra Heryanto]\n",
        "- **Email:** [vito.heryanto@gmail.com]\n",
        "- **ID Dicoding:** [vitoputra]"
      ]
    },
    {
      "cell_type": "markdown",
      "metadata": {
        "id": "eE0raob58DC0"
      },
      "source": [
        "## Menentukan Pertanyaan Bisnis"
      ]
    },
    {
      "cell_type": "markdown",
      "metadata": {
        "id": "GmQeQ5YF8DC0"
      },
      "source": [
        "- Type pembayaran yang paling banyak di pilih oleh customer?\n",
        "- Product apa yang paling banyak di order dan paling sedikit di order?\n",
        "- Bagaimana performa penjualan dan revenue perusahaan dalam beberapa bulan terakhir?\n",
        "- Kapan terakhir pelanggan melakukan transaksi?\n",
        "- Seberapa sering seorang pelanggan melakukan pembelian dalam beberapa bulan terakhir?\n",
        "- Berapa banyak uang yang dihabiskan pelanggan dalam beberapa bulan terakhir?"
      ]
    },
    {
      "cell_type": "markdown",
      "metadata": {
        "id": "H-z4QGlO8DC1"
      },
      "source": [
        "## Import Semua Packages/Library yang Digunakan"
      ]
    },
    {
      "cell_type": "code",
      "execution_count": 135,
      "metadata": {
        "id": "FVYwaObI8DC1"
      },
      "outputs": [],
      "source": [
        "import numpy as np\n",
        "import pandas as pd\n",
        "import matplotlib.pyplot as plt\n",
        "import seaborn as sns"
      ]
    },
    {
      "cell_type": "markdown",
      "metadata": {
        "id": "h_Sh51Xy8DC1"
      },
      "source": [
        "## Data Wrangling"
      ]
    },
    {
      "cell_type": "code",
      "execution_count": 133,
      "metadata": {
        "colab": {
          "base_uri": "https://localhost:8080/"
        },
        "id": "SxnZhgFc8bzQ",
        "outputId": "29444264-07a9-4d14-ec3c-0f749e0e5bec"
      },
      "outputs": [
        {
          "name": "stdout",
          "output_type": "stream",
          "text": [
            "                         customer_id                customer_unique_id  \\\n",
            "0   06b8999e2fba1a1fbc88172c00ba8bc7  861eff4711a542e4b93843c6dd7febb0   \n",
            "1   18955e83d337fd6b2def6b18a428ac77  290c77bc529b7ac935b93aa66c333dc3   \n",
            "2   4e7b3e00288586ebd08712fdd0374a03  060e732b5b29e8181a18229c7b0b2b5e   \n",
            "3   b2b6027bc5c5109e529d4dc6358b12c3  259dac757896d24d7702b9acbbff3f3c   \n",
            "4   4f2d8ab171c80ec8364f7c12e35b23ad  345ecd01c38d18a9036ed96c73b8d066   \n",
            "5   879864dab9bc3047522c92c82e1212b8  4c93744516667ad3b8f1fb645a3116a4   \n",
            "6   fd826e7cf63160e536e0908c76c3f441  addec96d2e059c80c30fe6871d30d177   \n",
            "7   5e274e7a0c3809e14aba7ad5aae0d407  57b2a98a409812fe9618067b6b8ebe4f   \n",
            "8   5adf08e34b2e993982a47070956c5c65  1175e95fb47ddff9de6b2b06188f7e0d   \n",
            "9   4b7139f34592b3a31687243a302fa75b  9afe194fb833f79e300e37e580171f22   \n",
            "10  9fb35e4ed6f0a14a4977cd9aea4042bb  2a7745e1ed516b289ed9b29c7d0539a5   \n",
            "11  5aa9e4fdd4dfd20959cad2d772509598  2a46fb94aef5cbeeb850418118cee090   \n",
            "12  b2d1536598b73a9abd18e0d75d92f0a3  918dc87cd72cd9f6ed4bd442ed785235   \n",
            "13  eabebad39a88bb6f5b52376faec28612  295c05e81917928d76245e842748184d   \n",
            "14  1f1c7bf1c9b041b292af6c1c4470b753  3151a81801c8386361b62277d7fa5ecf   \n",
            "15  206f3129c0e4d7d0b9550426023f0a08  21f748a16f4e1688a9014eb3ee6fa325   \n",
            "16  a7c125a0a07b75146167b7f04a7f8e98  5c2991dbd08bbf3cf410713c4de5a0b5   \n",
            "17  c5c61596a3b6bd0cee5766992c48a9a1  b6e99561fe6f34a55b0b7da92f8ed775   \n",
            "18  9b8ce803689b3562defaad4613ef426f  7f3a72e8f988c6e735ba118d54f47458   \n",
            "19  49d0ea0986edde72da777f15456a0ee0  3e6fd6b2f0d499456a6a6820a40f2d79   \n",
            "20  154c4ded6991bdfa3cd249d11abf4130  e607ede0e63436308660236f5a52da5e   \n",
            "21  690172ab319622688d3b4df42f676898  a96d5cfa0d3181817e2b946f921ea021   \n",
            "22  2938121a40a20953c43caa8c98787fcb  482441ea6a06b1f72fe9784756c0ea75   \n",
            "23  237098a64674ae89babdc426746260fc  4390ddbb6276a66ff1736a6710205dca   \n",
            "24  cb721d7b4f271fd87011c4c83462c076  a5844ba4bfc8d0cc61d13027c7e63bcc   \n",
            "\n",
            "    customer_zip_code_prefix          customer_city customer_state  \n",
            "0                      14409                 franca             SP  \n",
            "1                       9790  sao bernardo do campo             SP  \n",
            "2                       1151              sao paulo             SP  \n",
            "3                       8775        mogi das cruzes             SP  \n",
            "4                      13056               campinas             SP  \n",
            "5                      89254         jaragua do sul             SC  \n",
            "6                       4534              sao paulo             SP  \n",
            "7                      35182                timoteo             MG  \n",
            "8                      81560               curitiba             PR  \n",
            "9                      30575         belo horizonte             MG  \n",
            "10                     39400          montes claros             MG  \n",
            "11                     20231         rio de janeiro             RJ  \n",
            "12                     18682       lencois paulista             SP  \n",
            "13                      5704              sao paulo             SP  \n",
            "14                     95110          caxias do sul             RS  \n",
            "15                     13412             piracicaba             SP  \n",
            "16                     22750         rio de janeiro             RJ  \n",
            "17                      7124              guarulhos             SP  \n",
            "18                      5416              sao paulo             SP  \n",
            "19                     68485                 pacaja             PA  \n",
            "20                     88034          florianopolis             SC  \n",
            "21                     74914   aparecida de goiania             GO  \n",
            "22                      5713              sao paulo             SP  \n",
            "23                     82820               curitiba             PR  \n",
            "24                      8225              sao paulo             SP  \n"
          ]
        }
      ],
      "source": [
        "customers_df = pd.read_csv(\"D:\\Downloads\\LAIN-LAIN\\Dicoding\\Dicoding\\Submission\\Data\\E-commerce-public-dataset\\E-Commerce Public Dataset\\customers_dataset.csv\")\n",
        "print(customers_df.head(25))"
      ]
    },
    {
      "cell_type": "code",
      "execution_count": 125,
      "metadata": {
        "colab": {
          "base_uri": "https://localhost:8080/"
        },
        "id": "saFy6YO2IiC8",
        "outputId": "27f519dd-fdc8-4777-8ef5-50915b652fd3"
      },
      "outputs": [
        {
          "name": "stdout",
          "output_type": "stream",
          "text": [
            "<class 'pandas.core.frame.DataFrame'>\n",
            "RangeIndex: 99441 entries, 0 to 99440\n",
            "Data columns (total 5 columns):\n",
            " #   Column                    Non-Null Count  Dtype \n",
            "---  ------                    --------------  ----- \n",
            " 0   customer_id               99441 non-null  object\n",
            " 1   customer_unique_id        99441 non-null  object\n",
            " 2   customer_zip_code_prefix  99441 non-null  int64 \n",
            " 3   customer_city             99441 non-null  object\n",
            " 4   customer_state            99441 non-null  object\n",
            "dtypes: int64(1), object(4)\n",
            "memory usage: 3.8+ MB\n"
          ]
        }
      ],
      "source": [
        "customers_df.info()"
      ]
    },
    {
      "cell_type": "code",
      "execution_count": 129,
      "metadata": {
        "colab": {
          "base_uri": "https://localhost:8080/"
        },
        "collapsed": true,
        "id": "FmdIVXxn8m7O",
        "outputId": "7f769c94-733d-4f9a-c05d-a11a7443ca75"
      },
      "outputs": [
        {
          "name": "stdout",
          "output_type": "stream",
          "text": [
            "                            order_id  order_item_id  \\\n",
            "0   00010242fe8c5a6d1ba2dd792cb16214              1   \n",
            "1   00018f77f2f0320c557190d7a144bdd3              1   \n",
            "2   000229ec398224ef6ca0657da4fc703e              1   \n",
            "3   00024acbcdf0a6daa1e931b038114c75              1   \n",
            "4   00042b26cf59d7ce69dfabb4e55b4fd9              1   \n",
            "5   00048cc3ae777c65dbb7d2a0634bc1ea              1   \n",
            "6   00054e8431b9d7675808bcb819fb4a32              1   \n",
            "7   000576fe39319847cbb9d288c5617fa6              1   \n",
            "8   0005a1a1728c9d785b8e2b08b904576c              1   \n",
            "9   0005f50442cb953dcd1d21e1fb923495              1   \n",
            "10  00061f2a7bc09da83e415a52dc8a4af1              1   \n",
            "11  00063b381e2406b52ad429470734ebd5              1   \n",
            "12  0006ec9db01a64e59a68b2c340bf65a7              1   \n",
            "13  0008288aa423d2a3f00fcb17cd7d8719              1   \n",
            "14  0008288aa423d2a3f00fcb17cd7d8719              2   \n",
            "15  0009792311464db532ff765bf7b182ae              1   \n",
            "16  0009c9a17f916a706d71784483a5d643              1   \n",
            "17  000aed2e25dbad2f9ddb70584c5a2ded              1   \n",
            "18  000c3e6612759851cc3cbb4b83257986              1   \n",
            "19  000e562887b1f2006d75e0be9558292e              1   \n",
            "20  000e63d38ae8c00bbcb5a30573b99628              1   \n",
            "21  000e906b789b55f64edcb1f84030f90d              1   \n",
            "22  000f25f4d72195062c040b12dce9a18a              1   \n",
            "23  001021efaa8636c29475e7734483457d              1   \n",
            "24  0010b2e5201cc5f1ae7e9c6cc8f5bd00              1   \n",
            "\n",
            "                          product_id                         seller_id  \\\n",
            "0   4244733e06e7ecb4970a6e2683c13e61  48436dade18ac8b2bce089ec2a041202   \n",
            "1   e5f2d52b802189ee658865ca93d83a8f  dd7ddc04e1b6c2c614352b383efe2d36   \n",
            "2   c777355d18b72b67abbeef9df44fd0fd  5b51032eddd242adc84c38acab88f23d   \n",
            "3   7634da152a4610f1595efa32f14722fc  9d7a1d34a5052409006425275ba1c2b4   \n",
            "4   ac6c3623068f30de03045865e4e10089  df560393f3a51e74553ab94004ba5c87   \n",
            "5   ef92defde845ab8450f9d70c526ef70f  6426d21aca402a131fc0a5d0960a3c90   \n",
            "6   8d4f2bb7e93e6710a28f34fa83ee7d28  7040e82f899a04d1b434b795a43b4617   \n",
            "7   557d850972a7d6f792fd18ae1400d9b6  5996cddab893a4652a15592fb58ab8db   \n",
            "8   310ae3c140ff94b03219ad0adc3c778f  a416b6a846a11724393025641d4edd5e   \n",
            "9   4535b0e1091c278dfd193e5a1d63b39f  ba143b05f0110f0dc71ad71b4466ce92   \n",
            "10  d63c1011f49d98b976c352955b1c4bea  cc419e0650a3c5ba77189a1882b7556a   \n",
            "11  f177554ea93259a5b282f24e33f65ab6  8602a61d680a10a82cceeeda0d99ea3d   \n",
            "12  99a4788cb24856965c36a24e339b6058  4a3ca9315b744ce9f8e9374361493884   \n",
            "13  368c6c730842d78016ad823897a372db  1f50f920176fa81dab994f9023523100   \n",
            "14  368c6c730842d78016ad823897a372db  1f50f920176fa81dab994f9023523100   \n",
            "15  8cab8abac59158715e0d70a36c807415  530ec6109d11eaaf87999465c6afee01   \n",
            "16  3f27ac8e699df3d300ec4a5d8c5cf0b2  fcb5ace8bcc92f75707dc0f01a27d269   \n",
            "17  4fa33915031a8cde03dd0d3e8fb27f01  fe2032dab1a61af8794248c8196565c9   \n",
            "18  b50c950aba0dcead2c48032a690ce817  218d46b86c1881d022bce9c68a7d4b15   \n",
            "19  5ed9eaf534f6936b51d0b6c5e4d5c2e9  8cbac7e12637ed9cffa18c7875207478   \n",
            "20  553e0e7590d3116a072507a3635d2877  1c129092bf23f28a5930387c980c0dfc   \n",
            "21  57d79905de06d8897872c551bfd09358  ea8482cd71df3c1969d7b9473ff13abc   \n",
            "22  1c05e0964302b6cf68ca0d15f326c6ba  7c67e1448b00f6e969d365cea6b010ab   \n",
            "23  5d7c23067ed3fc8c6e699b9373d5890b  6560211a19b47992c3666cc44a7e94c0   \n",
            "24  5a419dbf24a8c9718fe522b81c69f61a  3504c0cb71d7fa48d967e0e4c94d59d9   \n",
            "\n",
            "    shipping_limit_date   price  freight_value  \n",
            "0   2017-09-19 09:45:35   58.90          13.29  \n",
            "1   2017-05-03 11:05:13  239.90          19.93  \n",
            "2   2018-01-18 14:48:30  199.00          17.87  \n",
            "3   2018-08-15 10:10:18   12.99          12.79  \n",
            "4   2017-02-13 13:57:51  199.90          18.14  \n",
            "5   2017-05-23 03:55:27   21.90          12.69  \n",
            "6   2017-12-14 12:10:31   19.90          11.85  \n",
            "7   2018-07-10 12:30:45  810.00          70.75  \n",
            "8   2018-03-26 18:31:29  145.95          11.65  \n",
            "9   2018-07-06 14:10:56   53.99          11.40  \n",
            "10  2018-03-29 22:28:09   59.99           8.88  \n",
            "11  2018-07-31 17:30:39   45.00          12.98  \n",
            "12  2018-07-26 17:24:20   74.00          23.32  \n",
            "13  2018-02-21 02:55:52   49.90          13.37  \n",
            "14  2018-02-21 02:55:52   49.90          13.37  \n",
            "15  2018-08-17 12:15:10   99.90          27.65  \n",
            "16  2018-05-02 09:31:53  639.00          11.34  \n",
            "17  2018-05-16 20:57:03  144.00           8.77  \n",
            "18  2017-08-21 03:33:13   99.00          13.71  \n",
            "19  2018-02-28 12:08:37   25.00          16.11  \n",
            "20  2018-03-29 20:07:49   47.90           8.88  \n",
            "21  2017-11-27 19:09:02   21.99          11.85  \n",
            "22  2018-03-21 11:10:11  119.99          44.40  \n",
            "23  2018-03-05 09:35:41   49.00          15.10  \n",
            "24  2017-09-15 18:04:37   48.90          16.60  \n"
          ]
        }
      ],
      "source": [
        "orders_item_df = pd.read_csv(\"D:\\Downloads\\LAIN-LAIN\\Dicoding\\Dicoding\\Submission\\Data\\E-commerce-public-dataset\\E-Commerce Public Dataset\\order_items_dataset.csv\")\n",
        "print(orders_item_df.head(25))"
      ]
    },
    {
      "cell_type": "code",
      "execution_count": 69,
      "metadata": {
        "colab": {
          "base_uri": "https://localhost:8080/",
          "height": 300
        },
        "id": "pUjuMT0XGUwl",
        "outputId": "592b4127-2d0d-4e0e-94af-c048bc325bfb"
      },
      "outputs": [
        {
          "data": {
            "text/html": [
              "<div>\n",
              "<style scoped>\n",
              "    .dataframe tbody tr th:only-of-type {\n",
              "        vertical-align: middle;\n",
              "    }\n",
              "\n",
              "    .dataframe tbody tr th {\n",
              "        vertical-align: top;\n",
              "    }\n",
              "\n",
              "    .dataframe thead th {\n",
              "        text-align: right;\n",
              "    }\n",
              "</style>\n",
              "<table border=\"1\" class=\"dataframe\">\n",
              "  <thead>\n",
              "    <tr style=\"text-align: right;\">\n",
              "      <th></th>\n",
              "      <th>order_item_id</th>\n",
              "      <th>price</th>\n",
              "      <th>freight_value</th>\n",
              "    </tr>\n",
              "  </thead>\n",
              "  <tbody>\n",
              "    <tr>\n",
              "      <th>count</th>\n",
              "      <td>112650.000000</td>\n",
              "      <td>112650.000000</td>\n",
              "      <td>112650.000000</td>\n",
              "    </tr>\n",
              "    <tr>\n",
              "      <th>mean</th>\n",
              "      <td>1.197834</td>\n",
              "      <td>120.653739</td>\n",
              "      <td>19.990320</td>\n",
              "    </tr>\n",
              "    <tr>\n",
              "      <th>std</th>\n",
              "      <td>0.705124</td>\n",
              "      <td>183.633928</td>\n",
              "      <td>15.806405</td>\n",
              "    </tr>\n",
              "    <tr>\n",
              "      <th>min</th>\n",
              "      <td>1.000000</td>\n",
              "      <td>0.850000</td>\n",
              "      <td>0.000000</td>\n",
              "    </tr>\n",
              "    <tr>\n",
              "      <th>25%</th>\n",
              "      <td>1.000000</td>\n",
              "      <td>39.900000</td>\n",
              "      <td>13.080000</td>\n",
              "    </tr>\n",
              "    <tr>\n",
              "      <th>50%</th>\n",
              "      <td>1.000000</td>\n",
              "      <td>74.990000</td>\n",
              "      <td>16.260000</td>\n",
              "    </tr>\n",
              "    <tr>\n",
              "      <th>75%</th>\n",
              "      <td>1.000000</td>\n",
              "      <td>134.900000</td>\n",
              "      <td>21.150000</td>\n",
              "    </tr>\n",
              "    <tr>\n",
              "      <th>max</th>\n",
              "      <td>21.000000</td>\n",
              "      <td>6735.000000</td>\n",
              "      <td>409.680000</td>\n",
              "    </tr>\n",
              "  </tbody>\n",
              "</table>\n",
              "</div>"
            ],
            "text/plain": [
              "       order_item_id          price  freight_value\n",
              "count  112650.000000  112650.000000  112650.000000\n",
              "mean        1.197834     120.653739      19.990320\n",
              "std         0.705124     183.633928      15.806405\n",
              "min         1.000000       0.850000       0.000000\n",
              "25%         1.000000      39.900000      13.080000\n",
              "50%         1.000000      74.990000      16.260000\n",
              "75%         1.000000     134.900000      21.150000\n",
              "max        21.000000    6735.000000     409.680000"
            ]
          },
          "execution_count": 69,
          "metadata": {},
          "output_type": "execute_result"
        }
      ],
      "source": [
        "orders_item_df.describe()"
      ]
    },
    {
      "cell_type": "code",
      "execution_count": 70,
      "metadata": {
        "colab": {
          "base_uri": "https://localhost:8080/"
        },
        "collapsed": true,
        "id": "r34as0BpIx40",
        "outputId": "5b6dc5ab-6578-47e3-edde-71be267b7119"
      },
      "outputs": [
        {
          "name": "stdout",
          "output_type": "stream",
          "text": [
            "<class 'pandas.core.frame.DataFrame'>\n",
            "RangeIndex: 112650 entries, 0 to 112649\n",
            "Data columns (total 7 columns):\n",
            " #   Column               Non-Null Count   Dtype  \n",
            "---  ------               --------------   -----  \n",
            " 0   order_id             112650 non-null  object \n",
            " 1   order_item_id        112650 non-null  int64  \n",
            " 2   product_id           112650 non-null  object \n",
            " 3   seller_id            112650 non-null  object \n",
            " 4   shipping_limit_date  112650 non-null  object \n",
            " 5   price                112650 non-null  float64\n",
            " 6   freight_value        112650 non-null  float64\n",
            "dtypes: float64(2), int64(1), object(4)\n",
            "memory usage: 6.0+ MB\n"
          ]
        }
      ],
      "source": [
        "orders_item_df.info()"
      ]
    },
    {
      "cell_type": "code",
      "execution_count": 71,
      "metadata": {
        "colab": {
          "base_uri": "https://localhost:8080/"
        },
        "collapsed": true,
        "id": "lzccPJig9PJF",
        "outputId": "f0f356b5-c0ac-4306-e431-6217605950fe"
      },
      "outputs": [
        {
          "name": "stdout",
          "output_type": "stream",
          "text": [
            "                          product_id             product_category_name  \\\n",
            "0   1e9e8ef04dbcff4541ed26657ea517e5                        perfumaria   \n",
            "1   3aa071139cb16b67ca9e5dea641aaa2f                             artes   \n",
            "2   96bd76ec8810374ed1b65e291975717f                     esporte_lazer   \n",
            "3   cef67bcfe19066a932b7673e239eb23d                             bebes   \n",
            "4   9dc1a7de274444849c219cff195d0b71             utilidades_domesticas   \n",
            "5   41d3672d4792049fa1779bb35283ed13             instrumentos_musicais   \n",
            "6   732bd381ad09e530fe0a5f457d81becb                        cool_stuff   \n",
            "7   2548af3e6e77a690cf3eb6368e9ab61e                  moveis_decoracao   \n",
            "8   37cc742be07708b53a98702e77a21a02                  eletrodomesticos   \n",
            "9   8c92109888e8cdf9d66dc7e463025574                        brinquedos   \n",
            "10  14aa47b7fe5c25522b47b4b29c98dcb9                   cama_mesa_banho   \n",
            "11  03b63c5fc16691530586ae020c345514                             bebes   \n",
            "12  cf55509ea8edaaac1d28fdb16e48fc22             instrumentos_musicais   \n",
            "13  7bb6f29c2be57716194f96496660c7c2                  moveis_decoracao   \n",
            "14  eb31436580a610f202c859463d8c7415  construcao_ferramentas_seguranca   \n",
            "15  3bb7f144022e6732727d8d838a7b13b3                     esporte_lazer   \n",
            "16  6a2fb4dd53d2cdb88e0432f1284a004c                        perfumaria   \n",
            "17  a1b71017a84f92fd8da4aeefba108a24            informatica_acessorios   \n",
            "18  a0736b92e52f6cead290e30b578413b6                  moveis_decoracao   \n",
            "19  f53103a77d9cf245e579ea37e5ec51f0                   cama_mesa_banho   \n",
            "20  1c1890ba1779090cd54008a3c3302921                  moveis_decoracao   \n",
            "21  518ef5de2c2b3a255e326a4594ba15d9                   cama_mesa_banho   \n",
            "22  e3e020af31d4d89d2602272b315c3f6e                      beleza_saude   \n",
            "23  8b41fbc2b984a12030090112324d1bc4                             bebes   \n",
            "24  d03bd02af9fff4b98f1c972315e5e9ef                  moveis_decoracao   \n",
            "\n",
            "    product_name_lenght  product_description_lenght  product_photos_qty  \\\n",
            "0                  40.0                       287.0                 1.0   \n",
            "1                  44.0                       276.0                 1.0   \n",
            "2                  46.0                       250.0                 1.0   \n",
            "3                  27.0                       261.0                 1.0   \n",
            "4                  37.0                       402.0                 4.0   \n",
            "5                  60.0                       745.0                 1.0   \n",
            "6                  56.0                      1272.0                 4.0   \n",
            "7                  56.0                       184.0                 2.0   \n",
            "8                  57.0                       163.0                 1.0   \n",
            "9                  36.0                      1156.0                 1.0   \n",
            "10                 54.0                       630.0                 1.0   \n",
            "11                 49.0                       728.0                 4.0   \n",
            "12                 43.0                      1827.0                 3.0   \n",
            "13                 51.0                      2083.0                 2.0   \n",
            "14                 59.0                      1602.0                 4.0   \n",
            "15                 22.0                      3021.0                 1.0   \n",
            "16                 39.0                       346.0                 2.0   \n",
            "17                 59.0                       636.0                 1.0   \n",
            "18                 56.0                       296.0                 2.0   \n",
            "19                 52.0                       206.0                 1.0   \n",
            "20                 27.0                       158.0                 4.0   \n",
            "21                 27.0                       329.0                 2.0   \n",
            "22                 58.0                      1987.0                 3.0   \n",
            "23                 55.0                      1627.0                 1.0   \n",
            "24                 56.0                       209.0                 1.0   \n",
            "\n",
            "    product_weight_g  product_length_cm  product_height_cm  product_width_cm  \n",
            "0              225.0               16.0               10.0              14.0  \n",
            "1             1000.0               30.0               18.0              20.0  \n",
            "2              154.0               18.0                9.0              15.0  \n",
            "3              371.0               26.0                4.0              26.0  \n",
            "4              625.0               20.0               17.0              13.0  \n",
            "5              200.0               38.0                5.0              11.0  \n",
            "6            18350.0               70.0               24.0              44.0  \n",
            "7              900.0               40.0                8.0              40.0  \n",
            "8              400.0               27.0               13.0              17.0  \n",
            "9              600.0               17.0               10.0              12.0  \n",
            "10            1100.0               16.0               10.0              16.0  \n",
            "11            7150.0               50.0               19.0              45.0  \n",
            "12             250.0               17.0                7.0              17.0  \n",
            "13             600.0               68.0               11.0              13.0  \n",
            "14             200.0               17.0                7.0              17.0  \n",
            "15             800.0               16.0                2.0              11.0  \n",
            "16             400.0               27.0                5.0              20.0  \n",
            "17             900.0               40.0               15.0              20.0  \n",
            "18            1700.0              100.0                7.0              15.0  \n",
            "19             500.0               16.0               10.0              16.0  \n",
            "20            2550.0               29.0               24.0              45.0  \n",
            "21             800.0               36.0                8.0              16.0  \n",
            "22              75.0               21.0                7.0              13.0  \n",
            "23             500.0               20.0               13.0              13.0  \n",
            "24            1800.0               40.0               10.0              30.0  \n"
          ]
        }
      ],
      "source": [
        "product_df = pd.read_csv(\"D:\\Downloads\\LAIN-LAIN\\Dicoding\\Dicoding\\Submission\\Data\\E-commerce-public-dataset\\E-Commerce Public Dataset\\products_dataset.csv\")\n",
        "print(product_df.head(25))"
      ]
    },
    {
      "cell_type": "code",
      "execution_count": 72,
      "metadata": {
        "colab": {
          "base_uri": "https://localhost:8080/",
          "height": 300
        },
        "collapsed": true,
        "id": "41BpemarGclC",
        "outputId": "9f1fcd26-974d-4bac-d97a-b12b30c7c97d"
      },
      "outputs": [
        {
          "data": {
            "text/html": [
              "<div>\n",
              "<style scoped>\n",
              "    .dataframe tbody tr th:only-of-type {\n",
              "        vertical-align: middle;\n",
              "    }\n",
              "\n",
              "    .dataframe tbody tr th {\n",
              "        vertical-align: top;\n",
              "    }\n",
              "\n",
              "    .dataframe thead th {\n",
              "        text-align: right;\n",
              "    }\n",
              "</style>\n",
              "<table border=\"1\" class=\"dataframe\">\n",
              "  <thead>\n",
              "    <tr style=\"text-align: right;\">\n",
              "      <th></th>\n",
              "      <th>product_name_lenght</th>\n",
              "      <th>product_description_lenght</th>\n",
              "      <th>product_photos_qty</th>\n",
              "      <th>product_weight_g</th>\n",
              "      <th>product_length_cm</th>\n",
              "      <th>product_height_cm</th>\n",
              "      <th>product_width_cm</th>\n",
              "    </tr>\n",
              "  </thead>\n",
              "  <tbody>\n",
              "    <tr>\n",
              "      <th>count</th>\n",
              "      <td>32341.000000</td>\n",
              "      <td>32341.000000</td>\n",
              "      <td>32341.000000</td>\n",
              "      <td>32949.000000</td>\n",
              "      <td>32949.000000</td>\n",
              "      <td>32949.000000</td>\n",
              "      <td>32949.000000</td>\n",
              "    </tr>\n",
              "    <tr>\n",
              "      <th>mean</th>\n",
              "      <td>48.476949</td>\n",
              "      <td>771.495285</td>\n",
              "      <td>2.188986</td>\n",
              "      <td>2276.472488</td>\n",
              "      <td>30.815078</td>\n",
              "      <td>16.937661</td>\n",
              "      <td>23.196728</td>\n",
              "    </tr>\n",
              "    <tr>\n",
              "      <th>std</th>\n",
              "      <td>10.245741</td>\n",
              "      <td>635.115225</td>\n",
              "      <td>1.736766</td>\n",
              "      <td>4282.038731</td>\n",
              "      <td>16.914458</td>\n",
              "      <td>13.637554</td>\n",
              "      <td>12.079047</td>\n",
              "    </tr>\n",
              "    <tr>\n",
              "      <th>min</th>\n",
              "      <td>5.000000</td>\n",
              "      <td>4.000000</td>\n",
              "      <td>1.000000</td>\n",
              "      <td>0.000000</td>\n",
              "      <td>7.000000</td>\n",
              "      <td>2.000000</td>\n",
              "      <td>6.000000</td>\n",
              "    </tr>\n",
              "    <tr>\n",
              "      <th>25%</th>\n",
              "      <td>42.000000</td>\n",
              "      <td>339.000000</td>\n",
              "      <td>1.000000</td>\n",
              "      <td>300.000000</td>\n",
              "      <td>18.000000</td>\n",
              "      <td>8.000000</td>\n",
              "      <td>15.000000</td>\n",
              "    </tr>\n",
              "    <tr>\n",
              "      <th>50%</th>\n",
              "      <td>51.000000</td>\n",
              "      <td>595.000000</td>\n",
              "      <td>1.000000</td>\n",
              "      <td>700.000000</td>\n",
              "      <td>25.000000</td>\n",
              "      <td>13.000000</td>\n",
              "      <td>20.000000</td>\n",
              "    </tr>\n",
              "    <tr>\n",
              "      <th>75%</th>\n",
              "      <td>57.000000</td>\n",
              "      <td>972.000000</td>\n",
              "      <td>3.000000</td>\n",
              "      <td>1900.000000</td>\n",
              "      <td>38.000000</td>\n",
              "      <td>21.000000</td>\n",
              "      <td>30.000000</td>\n",
              "    </tr>\n",
              "    <tr>\n",
              "      <th>max</th>\n",
              "      <td>76.000000</td>\n",
              "      <td>3992.000000</td>\n",
              "      <td>20.000000</td>\n",
              "      <td>40425.000000</td>\n",
              "      <td>105.000000</td>\n",
              "      <td>105.000000</td>\n",
              "      <td>118.000000</td>\n",
              "    </tr>\n",
              "  </tbody>\n",
              "</table>\n",
              "</div>"
            ],
            "text/plain": [
              "       product_name_lenght  product_description_lenght  product_photos_qty  \\\n",
              "count         32341.000000                32341.000000        32341.000000   \n",
              "mean             48.476949                  771.495285            2.188986   \n",
              "std              10.245741                  635.115225            1.736766   \n",
              "min               5.000000                    4.000000            1.000000   \n",
              "25%              42.000000                  339.000000            1.000000   \n",
              "50%              51.000000                  595.000000            1.000000   \n",
              "75%              57.000000                  972.000000            3.000000   \n",
              "max              76.000000                 3992.000000           20.000000   \n",
              "\n",
              "       product_weight_g  product_length_cm  product_height_cm  \\\n",
              "count      32949.000000       32949.000000       32949.000000   \n",
              "mean        2276.472488          30.815078          16.937661   \n",
              "std         4282.038731          16.914458          13.637554   \n",
              "min            0.000000           7.000000           2.000000   \n",
              "25%          300.000000          18.000000           8.000000   \n",
              "50%          700.000000          25.000000          13.000000   \n",
              "75%         1900.000000          38.000000          21.000000   \n",
              "max        40425.000000         105.000000         105.000000   \n",
              "\n",
              "       product_width_cm  \n",
              "count      32949.000000  \n",
              "mean          23.196728  \n",
              "std           12.079047  \n",
              "min            6.000000  \n",
              "25%           15.000000  \n",
              "50%           20.000000  \n",
              "75%           30.000000  \n",
              "max          118.000000  "
            ]
          },
          "execution_count": 72,
          "metadata": {},
          "output_type": "execute_result"
        }
      ],
      "source": [
        "product_df.describe()"
      ]
    },
    {
      "cell_type": "code",
      "execution_count": 73,
      "metadata": {
        "colab": {
          "base_uri": "https://localhost:8080/"
        },
        "collapsed": true,
        "id": "51IjYrG7JLGs",
        "outputId": "576607d3-acc8-4254-e36c-090277cfe64a"
      },
      "outputs": [
        {
          "name": "stdout",
          "output_type": "stream",
          "text": [
            "<class 'pandas.core.frame.DataFrame'>\n",
            "RangeIndex: 32951 entries, 0 to 32950\n",
            "Data columns (total 9 columns):\n",
            " #   Column                      Non-Null Count  Dtype  \n",
            "---  ------                      --------------  -----  \n",
            " 0   product_id                  32951 non-null  object \n",
            " 1   product_category_name       32341 non-null  object \n",
            " 2   product_name_lenght         32341 non-null  float64\n",
            " 3   product_description_lenght  32341 non-null  float64\n",
            " 4   product_photos_qty          32341 non-null  float64\n",
            " 5   product_weight_g            32949 non-null  float64\n",
            " 6   product_length_cm           32949 non-null  float64\n",
            " 7   product_height_cm           32949 non-null  float64\n",
            " 8   product_width_cm            32949 non-null  float64\n",
            "dtypes: float64(7), object(2)\n",
            "memory usage: 2.3+ MB\n"
          ]
        }
      ],
      "source": [
        "product_df.info()"
      ]
    },
    {
      "cell_type": "code",
      "execution_count": 74,
      "metadata": {
        "colab": {
          "base_uri": "https://localhost:8080/"
        },
        "collapsed": true,
        "id": "v4OomzzO9daa",
        "outputId": "6ff4536d-9193-4f03-8e2d-6c6df79d13e7"
      },
      "outputs": [
        {
          "name": "stdout",
          "output_type": "stream",
          "text": [
            "                            order_id  payment_sequential payment_type  \\\n",
            "0   b81ef226f3fe1789b1e8b2acac839d17                   1  credit_card   \n",
            "1   a9810da82917af2d9aefd1278f1dcfa0                   1  credit_card   \n",
            "2   25e8ea4e93396b6fa0d3dd708e76c1bd                   1  credit_card   \n",
            "3   ba78997921bbcdc1373bb41e913ab953                   1  credit_card   \n",
            "4   42fdf880ba16b47b59251dd489d4441a                   1  credit_card   \n",
            "5   298fcdf1f73eb413e4d26d01b25bc1cd                   1  credit_card   \n",
            "6   771ee386b001f06208a7419e4fc1bbd7                   1  credit_card   \n",
            "7   3d7239c394a212faae122962df514ac7                   1  credit_card   \n",
            "8   1f78449c87a54faf9e96e88ba1491fa9                   1  credit_card   \n",
            "9   0573b5e23cbd798006520e1d5b4c6714                   1       boleto   \n",
            "10  d88e0d5fa41661ce03cf6cf336527646                   1  credit_card   \n",
            "11  2480f727e869fdeb397244a21b721b67                   1  credit_card   \n",
            "12  616105c9352a9668c38303ad44e056cd                   1  credit_card   \n",
            "13  cf95215a722f3ebf29e6bbab87a29e61                   1  credit_card   \n",
            "14  769214176682788a92801d8907fa1b40                   1  credit_card   \n",
            "15  12e5cfe0e4716b59afb0e0f4a3bd6570                   1  credit_card   \n",
            "16  61059985a6fc0ad64e95d9944caacdad                   1  credit_card   \n",
            "17  79da3f5fe31ad1e454f06f95dc032ad5                   1  credit_card   \n",
            "18  8ac09207f415d55acff302df7d6a895c                   1  credit_card   \n",
            "19  b2349a3f20dfbeef62e7b31baa22f84b                   1  credit_card   \n",
            "20  5a1f6d22f7dfb061ef29216b9af687a1                   1  credit_card   \n",
            "21  4214cda550ece8ee66441f459dc33a8c                   1  credit_card   \n",
            "22  adfbf6c2a620196f9a3ec747491c72b7                   1  credit_card   \n",
            "23  4d680edbaa7d3d9bed69532957368a03                   1  credit_card   \n",
            "24  8cd68144cdb62dc0d60848cf8616d2a4                   1       boleto   \n",
            "\n",
            "    payment_installments  payment_value  \n",
            "0                      8          99.33  \n",
            "1                      1          24.39  \n",
            "2                      1          65.71  \n",
            "3                      8         107.78  \n",
            "4                      2         128.45  \n",
            "5                      2          96.12  \n",
            "6                      1          81.16  \n",
            "7                      3          51.84  \n",
            "8                      6         341.09  \n",
            "9                      1          51.95  \n",
            "10                     8         188.73  \n",
            "11                     1         141.90  \n",
            "12                     1          75.78  \n",
            "13                     5         102.66  \n",
            "14                     4         105.28  \n",
            "15                    10         157.45  \n",
            "16                     1         132.04  \n",
            "17                     1          98.94  \n",
            "18                     4         244.15  \n",
            "19                     3         136.71  \n",
            "20                     4          47.69  \n",
            "21                     2         170.57  \n",
            "22                     4          67.50  \n",
            "23                    10         353.09  \n",
            "24                     1         330.66  \n"
          ]
        }
      ],
      "source": [
        "payment_df = pd.read_csv(\"D:\\Downloads\\LAIN-LAIN\\Dicoding\\Dicoding\\Submission\\Data\\E-commerce-public-dataset\\E-Commerce Public Dataset\\order_payments_dataset.csv\")\n",
        "print(payment_df.head(25))"
      ]
    },
    {
      "cell_type": "code",
      "execution_count": 75,
      "metadata": {
        "colab": {
          "base_uri": "https://localhost:8080/",
          "height": 300
        },
        "collapsed": true,
        "id": "kJlis7ceGiL8",
        "outputId": "49b19ce0-bfde-42dd-9a1e-4577dcfda3d3"
      },
      "outputs": [
        {
          "data": {
            "text/html": [
              "<div>\n",
              "<style scoped>\n",
              "    .dataframe tbody tr th:only-of-type {\n",
              "        vertical-align: middle;\n",
              "    }\n",
              "\n",
              "    .dataframe tbody tr th {\n",
              "        vertical-align: top;\n",
              "    }\n",
              "\n",
              "    .dataframe thead th {\n",
              "        text-align: right;\n",
              "    }\n",
              "</style>\n",
              "<table border=\"1\" class=\"dataframe\">\n",
              "  <thead>\n",
              "    <tr style=\"text-align: right;\">\n",
              "      <th></th>\n",
              "      <th>payment_sequential</th>\n",
              "      <th>payment_installments</th>\n",
              "      <th>payment_value</th>\n",
              "    </tr>\n",
              "  </thead>\n",
              "  <tbody>\n",
              "    <tr>\n",
              "      <th>count</th>\n",
              "      <td>103886.000000</td>\n",
              "      <td>103886.000000</td>\n",
              "      <td>103886.000000</td>\n",
              "    </tr>\n",
              "    <tr>\n",
              "      <th>mean</th>\n",
              "      <td>1.092679</td>\n",
              "      <td>2.853349</td>\n",
              "      <td>154.100380</td>\n",
              "    </tr>\n",
              "    <tr>\n",
              "      <th>std</th>\n",
              "      <td>0.706584</td>\n",
              "      <td>2.687051</td>\n",
              "      <td>217.494064</td>\n",
              "    </tr>\n",
              "    <tr>\n",
              "      <th>min</th>\n",
              "      <td>1.000000</td>\n",
              "      <td>0.000000</td>\n",
              "      <td>0.000000</td>\n",
              "    </tr>\n",
              "    <tr>\n",
              "      <th>25%</th>\n",
              "      <td>1.000000</td>\n",
              "      <td>1.000000</td>\n",
              "      <td>56.790000</td>\n",
              "    </tr>\n",
              "    <tr>\n",
              "      <th>50%</th>\n",
              "      <td>1.000000</td>\n",
              "      <td>1.000000</td>\n",
              "      <td>100.000000</td>\n",
              "    </tr>\n",
              "    <tr>\n",
              "      <th>75%</th>\n",
              "      <td>1.000000</td>\n",
              "      <td>4.000000</td>\n",
              "      <td>171.837500</td>\n",
              "    </tr>\n",
              "    <tr>\n",
              "      <th>max</th>\n",
              "      <td>29.000000</td>\n",
              "      <td>24.000000</td>\n",
              "      <td>13664.080000</td>\n",
              "    </tr>\n",
              "  </tbody>\n",
              "</table>\n",
              "</div>"
            ],
            "text/plain": [
              "       payment_sequential  payment_installments  payment_value\n",
              "count       103886.000000         103886.000000  103886.000000\n",
              "mean             1.092679              2.853349     154.100380\n",
              "std              0.706584              2.687051     217.494064\n",
              "min              1.000000              0.000000       0.000000\n",
              "25%              1.000000              1.000000      56.790000\n",
              "50%              1.000000              1.000000     100.000000\n",
              "75%              1.000000              4.000000     171.837500\n",
              "max             29.000000             24.000000   13664.080000"
            ]
          },
          "execution_count": 75,
          "metadata": {},
          "output_type": "execute_result"
        }
      ],
      "source": [
        "payment_df.describe()"
      ]
    },
    {
      "cell_type": "code",
      "execution_count": 76,
      "metadata": {
        "colab": {
          "base_uri": "https://localhost:8080/"
        },
        "collapsed": true,
        "id": "XQUYFnqWJP5G",
        "outputId": "93ee6ad3-2e73-45b4-972b-2fce09b4372a"
      },
      "outputs": [
        {
          "name": "stdout",
          "output_type": "stream",
          "text": [
            "<class 'pandas.core.frame.DataFrame'>\n",
            "RangeIndex: 103886 entries, 0 to 103885\n",
            "Data columns (total 5 columns):\n",
            " #   Column                Non-Null Count   Dtype  \n",
            "---  ------                --------------   -----  \n",
            " 0   order_id              103886 non-null  object \n",
            " 1   payment_sequential    103886 non-null  int64  \n",
            " 2   payment_type          103886 non-null  object \n",
            " 3   payment_installments  103886 non-null  int64  \n",
            " 4   payment_value         103886 non-null  float64\n",
            "dtypes: float64(1), int64(2), object(2)\n",
            "memory usage: 4.0+ MB\n"
          ]
        }
      ],
      "source": [
        "payment_df.info()"
      ]
    },
    {
      "cell_type": "code",
      "execution_count": 77,
      "metadata": {
        "colab": {
          "base_uri": "https://localhost:8080/"
        },
        "id": "0DKiexj6hg4F",
        "outputId": "93e2d0b1-35f1-4530-d2de-189edc1afeaf"
      },
      "outputs": [
        {
          "name": "stdout",
          "output_type": "stream",
          "text": [
            "                            order_id                       customer_id  \\\n",
            "0   e481f51cbdc54678b7cc49136f2d6af7  9ef432eb6251297304e76186b10a928d   \n",
            "1   53cdb2fc8bc7dce0b6741e2150273451  b0830fb4747a6c6d20dea0b8c802d7ef   \n",
            "2   47770eb9100c2d0c44946d9cf07ec65d  41ce2a54c0b03bf3443c3d931a367089   \n",
            "3   949d5b44dbf5de918fe9c16f97b45f8a  f88197465ea7920adcdbec7375364d82   \n",
            "4   ad21c59c0840e6cb83a9ceb5573f8159  8ab97904e6daea8866dbdbc4fb7aad2c   \n",
            "5   a4591c265e18cb1dcee52889e2d8acc3  503740e9ca751ccdda7ba28e9ab8f608   \n",
            "6   136cce7faa42fdb2cefd53fdc79a6098  ed0271e0b7da060a393796590e7b737a   \n",
            "7   6514b8ad8028c9f2cc2374ded245783f  9bdf08b4b3b52b5526ff42d37d47f222   \n",
            "8   76c6e866289321a7c93b82b54852dc33  f54a9f0e6b351c431402b8461ea51999   \n",
            "9   e69bfb5eb88e0ed6a785585b27e16dbf  31ad1d1b63eb9962463f764d4e6e0c9d   \n",
            "10  e6ce16cb79ec1d90b1da9085a6118aeb  494dded5b201313c64ed7f100595b95c   \n",
            "11  34513ce0c4fab462a55830c0989c7edb  7711cf624183d843aafe81855097bc37   \n",
            "12  82566a660a982b15fb86e904c8d32918  d3e3b74c766bc6214e0c830b17ee2341   \n",
            "13  5ff96c15d0b717ac6ad1f3d77225a350  19402a48fe860416adf93348aba37740   \n",
            "14  432aaf21d85167c2c86ec9448c4e42cc  3df704f53d3f1d4818840b34ec672a9f   \n",
            "15  dcb36b511fcac050b97cd5c05de84dc3  3b6828a50ffe546942b7a473d70ac0fc   \n",
            "16  403b97836b0c04a622354cf531062e5f  738b086814c6fcc74b8cc583f8516ee3   \n",
            "17  116f0b09343b49556bbad5f35bee0cdf  3187789bec990987628d7a9beb4dd6ac   \n",
            "18  85ce859fd6dc634de8d2f1e290444043  059f7fc5719c7da6cbafe370971a8d70   \n",
            "19  83018ec114eee8641c97e08f7b4e926f  7f8c8b9c2ae27bf3300f670c3d478be8   \n",
            "20  203096f03d82e0dffbc41ebc2e2bcfb7  d2b091571da224a1b36412c18bc3bbfe   \n",
            "21  f848643eec1d69395095eb3840d2051e  4fa1cd166fa598be6de80fa84eaade43   \n",
            "22  2807d0e504d6d4894d41672727bc139f  72ae281627a6102d9b3718528b420f8a   \n",
            "23  95266dbfb7e20354baba07964dac78d5  a166da34890074091a942054b36e4265   \n",
            "24  f3e7c359154d965827355f39d6b1fdac  62b423aab58096ca514ba6aa06be2f98   \n",
            "\n",
            "   order_status order_purchase_timestamp    order_approved_at  \\\n",
            "0     delivered      2017-10-02 10:56:33  2017-10-02 11:07:15   \n",
            "1     delivered      2018-07-24 20:41:37  2018-07-26 03:24:27   \n",
            "2     delivered      2018-08-08 08:38:49  2018-08-08 08:55:23   \n",
            "3     delivered      2017-11-18 19:28:06  2017-11-18 19:45:59   \n",
            "4     delivered      2018-02-13 21:18:39  2018-02-13 22:20:29   \n",
            "5     delivered      2017-07-09 21:57:05  2017-07-09 22:10:13   \n",
            "6      invoiced      2017-04-11 12:22:08  2017-04-13 13:25:17   \n",
            "7     delivered      2017-05-16 13:10:30  2017-05-16 13:22:11   \n",
            "8     delivered      2017-01-23 18:29:09  2017-01-25 02:50:47   \n",
            "9     delivered      2017-07-29 11:55:02  2017-07-29 12:05:32   \n",
            "10    delivered      2017-05-16 19:41:10  2017-05-16 19:50:18   \n",
            "11    delivered      2017-07-13 19:58:11  2017-07-13 20:10:08   \n",
            "12    delivered      2018-06-07 10:06:19  2018-06-09 03:13:12   \n",
            "13    delivered      2018-07-25 17:44:10  2018-07-25 17:55:14   \n",
            "14    delivered      2018-03-01 14:14:28  2018-03-01 15:10:47   \n",
            "15    delivered      2018-06-07 19:03:12  2018-06-12 23:31:02   \n",
            "16    delivered      2018-01-02 19:00:43  2018-01-02 19:09:04   \n",
            "17    delivered      2017-12-26 23:41:31  2017-12-26 23:50:22   \n",
            "18    delivered      2017-11-21 00:03:41  2017-11-21 00:14:22   \n",
            "19    delivered      2017-10-26 15:54:26  2017-10-26 16:08:14   \n",
            "20    delivered      2017-09-18 14:31:30  2017-09-19 04:04:09   \n",
            "21    delivered      2018-03-15 08:52:40  2018-03-15 09:09:31   \n",
            "22    delivered      2018-02-03 20:37:35  2018-02-03 20:50:22   \n",
            "23    delivered      2018-01-08 07:55:29  2018-01-08 08:07:31   \n",
            "24    delivered      2018-08-09 11:44:40  2018-08-10 03:24:51   \n",
            "\n",
            "   order_delivered_carrier_date order_delivered_customer_date  \\\n",
            "0           2017-10-04 19:55:00           2017-10-10 21:25:13   \n",
            "1           2018-07-26 14:31:00           2018-08-07 15:27:45   \n",
            "2           2018-08-08 13:50:00           2018-08-17 18:06:29   \n",
            "3           2017-11-22 13:39:59           2017-12-02 00:28:42   \n",
            "4           2018-02-14 19:46:34           2018-02-16 18:17:02   \n",
            "5           2017-07-11 14:58:04           2017-07-26 10:57:55   \n",
            "6                           NaN                           NaN   \n",
            "7           2017-05-22 10:07:46           2017-05-26 12:55:51   \n",
            "8           2017-01-26 14:16:31           2017-02-02 14:08:10   \n",
            "9           2017-08-10 19:45:24           2017-08-16 17:14:30   \n",
            "10          2017-05-18 11:40:40           2017-05-29 11:18:31   \n",
            "11          2017-07-14 18:43:29           2017-07-19 14:04:48   \n",
            "12          2018-06-11 13:29:00           2018-06-19 12:05:52   \n",
            "13          2018-07-26 13:16:00           2018-07-30 15:52:25   \n",
            "14          2018-03-02 21:09:20           2018-03-12 23:36:26   \n",
            "15          2018-06-11 14:54:00           2018-06-21 15:34:32   \n",
            "16          2018-01-03 18:19:09           2018-01-20 01:38:59   \n",
            "17          2017-12-28 18:33:05           2018-01-08 22:36:36   \n",
            "18          2017-11-23 21:32:26           2017-11-27 18:28:00   \n",
            "19          2017-10-26 21:46:53           2017-11-08 22:22:00   \n",
            "20          2017-10-06 17:50:03           2017-10-09 22:23:46   \n",
            "21          2018-03-15 19:52:48           2018-03-19 18:08:32   \n",
            "22          2018-02-05 22:37:28           2018-02-08 16:13:46   \n",
            "23          2018-01-24 23:16:37           2018-01-26 17:32:38   \n",
            "24          2018-08-10 12:29:00           2018-08-13 18:24:27   \n",
            "\n",
            "   order_estimated_delivery_date  \n",
            "0            2017-10-18 00:00:00  \n",
            "1            2018-08-13 00:00:00  \n",
            "2            2018-09-04 00:00:00  \n",
            "3            2017-12-15 00:00:00  \n",
            "4            2018-02-26 00:00:00  \n",
            "5            2017-08-01 00:00:00  \n",
            "6            2017-05-09 00:00:00  \n",
            "7            2017-06-07 00:00:00  \n",
            "8            2017-03-06 00:00:00  \n",
            "9            2017-08-23 00:00:00  \n",
            "10           2017-06-07 00:00:00  \n",
            "11           2017-08-08 00:00:00  \n",
            "12           2018-07-18 00:00:00  \n",
            "13           2018-08-08 00:00:00  \n",
            "14           2018-03-21 00:00:00  \n",
            "15           2018-07-04 00:00:00  \n",
            "16           2018-02-06 00:00:00  \n",
            "17           2018-01-29 00:00:00  \n",
            "18           2017-12-11 00:00:00  \n",
            "19           2017-11-23 00:00:00  \n",
            "20           2017-09-28 00:00:00  \n",
            "21           2018-03-29 00:00:00  \n",
            "22           2018-02-21 00:00:00  \n",
            "23           2018-02-21 00:00:00  \n",
            "24           2018-08-17 00:00:00  \n"
          ]
        }
      ],
      "source": [
        "order_df = pd.read_csv(\"D:\\Downloads\\LAIN-LAIN\\Dicoding\\Dicoding\\Submission\\Data\\E-commerce-public-dataset\\E-Commerce Public Dataset\\orders_dataset.csv\")\n",
        "print(order_df.head(25))"
      ]
    },
    {
      "cell_type": "code",
      "execution_count": 78,
      "metadata": {
        "colab": {
          "base_uri": "https://localhost:8080/"
        },
        "id": "vi-efMkcjgsk",
        "outputId": "4d5dff30-edb4-47c6-c025-1f5dee73113f"
      },
      "outputs": [
        {
          "name": "stdout",
          "output_type": "stream",
          "text": [
            "<class 'pandas.core.frame.DataFrame'>\n",
            "RangeIndex: 99441 entries, 0 to 99440\n",
            "Data columns (total 8 columns):\n",
            " #   Column                         Non-Null Count  Dtype \n",
            "---  ------                         --------------  ----- \n",
            " 0   order_id                       99441 non-null  object\n",
            " 1   customer_id                    99441 non-null  object\n",
            " 2   order_status                   99441 non-null  object\n",
            " 3   order_purchase_timestamp       99441 non-null  object\n",
            " 4   order_approved_at              99281 non-null  object\n",
            " 5   order_delivered_carrier_date   97658 non-null  object\n",
            " 6   order_delivered_customer_date  96476 non-null  object\n",
            " 7   order_estimated_delivery_date  99441 non-null  object\n",
            "dtypes: object(8)\n",
            "memory usage: 6.1+ MB\n"
          ]
        }
      ],
      "source": [
        "order_df.info()"
      ]
    },
    {
      "cell_type": "code",
      "execution_count": 79,
      "metadata": {
        "id": "9WwSCDmAj2TT"
      },
      "outputs": [],
      "source": [
        "datetime_column = [\"order_purchase_timestamp\", \"order_approved_at\", \"order_delivered_carrier_date\",\"order_delivered_customer_date\", \"order_estimated_delivery_date\" ]\n",
        "\n",
        "for column in datetime_column:\n",
        "    order_df[column] = pd.to_datetime(order_df[column])"
      ]
    },
    {
      "cell_type": "code",
      "execution_count": 80,
      "metadata": {
        "colab": {
          "base_uri": "https://localhost:8080/"
        },
        "id": "-mT-h5dkkm3j",
        "outputId": "e0fec8c0-c2fe-4f60-d0d8-0c559a253632"
      },
      "outputs": [
        {
          "name": "stdout",
          "output_type": "stream",
          "text": [
            "<class 'pandas.core.frame.DataFrame'>\n",
            "RangeIndex: 99441 entries, 0 to 99440\n",
            "Data columns (total 8 columns):\n",
            " #   Column                         Non-Null Count  Dtype         \n",
            "---  ------                         --------------  -----         \n",
            " 0   order_id                       99441 non-null  object        \n",
            " 1   customer_id                    99441 non-null  object        \n",
            " 2   order_status                   99441 non-null  object        \n",
            " 3   order_purchase_timestamp       99441 non-null  datetime64[ns]\n",
            " 4   order_approved_at              99281 non-null  datetime64[ns]\n",
            " 5   order_delivered_carrier_date   97658 non-null  datetime64[ns]\n",
            " 6   order_delivered_customer_date  96476 non-null  datetime64[ns]\n",
            " 7   order_estimated_delivery_date  99441 non-null  datetime64[ns]\n",
            "dtypes: datetime64[ns](5), object(3)\n",
            "memory usage: 6.1+ MB\n"
          ]
        }
      ],
      "source": [
        "order_df.info()"
      ]
    },
    {
      "cell_type": "code",
      "execution_count": 81,
      "metadata": {
        "colab": {
          "base_uri": "https://localhost:8080/"
        },
        "collapsed": true,
        "id": "9PWm3_Ax-O8k",
        "outputId": "341e0a70-3a6b-4660-e607-cfbd0de945eb"
      },
      "outputs": [
        {
          "name": "stdout",
          "output_type": "stream",
          "text": [
            "                            order_id  order_item_id  \\\n",
            "0   00010242fe8c5a6d1ba2dd792cb16214              1   \n",
            "1   00018f77f2f0320c557190d7a144bdd3              1   \n",
            "2   000229ec398224ef6ca0657da4fc703e              1   \n",
            "3   00024acbcdf0a6daa1e931b038114c75              1   \n",
            "4   00042b26cf59d7ce69dfabb4e55b4fd9              1   \n",
            "5   00048cc3ae777c65dbb7d2a0634bc1ea              1   \n",
            "6   00054e8431b9d7675808bcb819fb4a32              1   \n",
            "7   000576fe39319847cbb9d288c5617fa6              1   \n",
            "8   0005a1a1728c9d785b8e2b08b904576c              1   \n",
            "9   0005f50442cb953dcd1d21e1fb923495              1   \n",
            "10  00061f2a7bc09da83e415a52dc8a4af1              1   \n",
            "11  00063b381e2406b52ad429470734ebd5              1   \n",
            "12  0006ec9db01a64e59a68b2c340bf65a7              1   \n",
            "13  0008288aa423d2a3f00fcb17cd7d8719              1   \n",
            "14  0008288aa423d2a3f00fcb17cd7d8719              2   \n",
            "15  0009792311464db532ff765bf7b182ae              1   \n",
            "16  0009c9a17f916a706d71784483a5d643              1   \n",
            "17  000aed2e25dbad2f9ddb70584c5a2ded              1   \n",
            "18  000c3e6612759851cc3cbb4b83257986              1   \n",
            "19  000e562887b1f2006d75e0be9558292e              1   \n",
            "20  000e63d38ae8c00bbcb5a30573b99628              1   \n",
            "21  000e906b789b55f64edcb1f84030f90d              1   \n",
            "22  000f25f4d72195062c040b12dce9a18a              1   \n",
            "23  001021efaa8636c29475e7734483457d              1   \n",
            "24  0010b2e5201cc5f1ae7e9c6cc8f5bd00              1   \n",
            "\n",
            "                          product_id                         seller_id  \\\n",
            "0   4244733e06e7ecb4970a6e2683c13e61  48436dade18ac8b2bce089ec2a041202   \n",
            "1   e5f2d52b802189ee658865ca93d83a8f  dd7ddc04e1b6c2c614352b383efe2d36   \n",
            "2   c777355d18b72b67abbeef9df44fd0fd  5b51032eddd242adc84c38acab88f23d   \n",
            "3   7634da152a4610f1595efa32f14722fc  9d7a1d34a5052409006425275ba1c2b4   \n",
            "4   ac6c3623068f30de03045865e4e10089  df560393f3a51e74553ab94004ba5c87   \n",
            "5   ef92defde845ab8450f9d70c526ef70f  6426d21aca402a131fc0a5d0960a3c90   \n",
            "6   8d4f2bb7e93e6710a28f34fa83ee7d28  7040e82f899a04d1b434b795a43b4617   \n",
            "7   557d850972a7d6f792fd18ae1400d9b6  5996cddab893a4652a15592fb58ab8db   \n",
            "8   310ae3c140ff94b03219ad0adc3c778f  a416b6a846a11724393025641d4edd5e   \n",
            "9   4535b0e1091c278dfd193e5a1d63b39f  ba143b05f0110f0dc71ad71b4466ce92   \n",
            "10  d63c1011f49d98b976c352955b1c4bea  cc419e0650a3c5ba77189a1882b7556a   \n",
            "11  f177554ea93259a5b282f24e33f65ab6  8602a61d680a10a82cceeeda0d99ea3d   \n",
            "12  99a4788cb24856965c36a24e339b6058  4a3ca9315b744ce9f8e9374361493884   \n",
            "13  368c6c730842d78016ad823897a372db  1f50f920176fa81dab994f9023523100   \n",
            "14  368c6c730842d78016ad823897a372db  1f50f920176fa81dab994f9023523100   \n",
            "15  8cab8abac59158715e0d70a36c807415  530ec6109d11eaaf87999465c6afee01   \n",
            "16  3f27ac8e699df3d300ec4a5d8c5cf0b2  fcb5ace8bcc92f75707dc0f01a27d269   \n",
            "17  4fa33915031a8cde03dd0d3e8fb27f01  fe2032dab1a61af8794248c8196565c9   \n",
            "18  b50c950aba0dcead2c48032a690ce817  218d46b86c1881d022bce9c68a7d4b15   \n",
            "19  5ed9eaf534f6936b51d0b6c5e4d5c2e9  8cbac7e12637ed9cffa18c7875207478   \n",
            "20  553e0e7590d3116a072507a3635d2877  1c129092bf23f28a5930387c980c0dfc   \n",
            "21  57d79905de06d8897872c551bfd09358  ea8482cd71df3c1969d7b9473ff13abc   \n",
            "22  1c05e0964302b6cf68ca0d15f326c6ba  7c67e1448b00f6e969d365cea6b010ab   \n",
            "23  5d7c23067ed3fc8c6e699b9373d5890b  6560211a19b47992c3666cc44a7e94c0   \n",
            "24  5a419dbf24a8c9718fe522b81c69f61a  3504c0cb71d7fa48d967e0e4c94d59d9   \n",
            "\n",
            "    shipping_limit_date   price  freight_value  payment_sequential  \\\n",
            "0   2017-09-19 09:45:35   58.90          13.29                 1.0   \n",
            "1   2017-05-03 11:05:13  239.90          19.93                 1.0   \n",
            "2   2018-01-18 14:48:30  199.00          17.87                 1.0   \n",
            "3   2018-08-15 10:10:18   12.99          12.79                 1.0   \n",
            "4   2017-02-13 13:57:51  199.90          18.14                 1.0   \n",
            "5   2017-05-23 03:55:27   21.90          12.69                 1.0   \n",
            "6   2017-12-14 12:10:31   19.90          11.85                 1.0   \n",
            "7   2018-07-10 12:30:45  810.00          70.75                 1.0   \n",
            "8   2018-03-26 18:31:29  145.95          11.65                 1.0   \n",
            "9   2018-07-06 14:10:56   53.99          11.40                 1.0   \n",
            "10  2018-03-29 22:28:09   59.99           8.88                 1.0   \n",
            "11  2018-07-31 17:30:39   45.00          12.98                 1.0   \n",
            "12  2018-07-26 17:24:20   74.00          23.32                 1.0   \n",
            "13  2018-02-21 02:55:52   49.90          13.37                 1.0   \n",
            "14  2018-02-21 02:55:52   49.90          13.37                 1.0   \n",
            "15  2018-08-17 12:15:10   99.90          27.65                 1.0   \n",
            "16  2018-05-02 09:31:53  639.00          11.34                 1.0   \n",
            "17  2018-05-16 20:57:03  144.00           8.77                 1.0   \n",
            "18  2017-08-21 03:33:13   99.00          13.71                 1.0   \n",
            "19  2018-02-28 12:08:37   25.00          16.11                 1.0   \n",
            "20  2018-03-29 20:07:49   47.90           8.88                 1.0   \n",
            "21  2017-11-27 19:09:02   21.99          11.85                 1.0   \n",
            "22  2018-03-21 11:10:11  119.99          44.40                 1.0   \n",
            "23  2018-03-05 09:35:41   49.00          15.10                 1.0   \n",
            "24  2017-09-15 18:04:37   48.90          16.60                 1.0   \n",
            "\n",
            "   payment_type  payment_installments  payment_value  \n",
            "0   credit_card                   2.0          72.19  \n",
            "1   credit_card                   3.0         259.83  \n",
            "2   credit_card                   5.0         216.87  \n",
            "3   credit_card                   2.0          25.78  \n",
            "4   credit_card                   3.0         218.04  \n",
            "5        boleto                   1.0          34.59  \n",
            "6   credit_card                   1.0          31.75  \n",
            "7   credit_card                  10.0         880.75  \n",
            "8   credit_card                   3.0         157.60  \n",
            "9   credit_card                   1.0          65.39  \n",
            "10  credit_card                   3.0          68.87  \n",
            "11  credit_card                   5.0          57.98  \n",
            "12  credit_card                   4.0          97.32  \n",
            "13       boleto                   1.0         126.54  \n",
            "14       boleto                   1.0         126.54  \n",
            "15       boleto                   1.0         127.55  \n",
            "16  credit_card                   6.0         650.34  \n",
            "17  credit_card                   1.0         152.77  \n",
            "18       boleto                   1.0         112.71  \n",
            "19  credit_card                   4.0          41.11  \n",
            "20  credit_card                   1.0          56.78  \n",
            "21  credit_card                   3.0          33.84  \n",
            "22  credit_card                   1.0         164.39  \n",
            "23  credit_card                   3.0          64.10  \n",
            "24  credit_card                   3.0          65.50  \n"
          ]
        }
      ],
      "source": [
        "order_payment_df = pd.merge(\n",
        "    left=orders_item_df,\n",
        "    right=payment_df,\n",
        "    how=\"left\",\n",
        "    left_on=\"order_id\",\n",
        "    right_on=\"order_id\"\n",
        ")\n",
        "print(order_payment_df.head(25))"
      ]
    },
    {
      "cell_type": "code",
      "execution_count": 83,
      "metadata": {
        "colab": {
          "base_uri": "https://localhost:8080/"
        },
        "collapsed": true,
        "id": "yfKAAsgXBozV",
        "outputId": "fc0e2e4e-8063-4819-999e-4904cd748e4e"
      },
      "outputs": [
        {
          "name": "stdout",
          "output_type": "stream",
          "text": [
            "                            order_id  order_item_id  \\\n",
            "0   00010242fe8c5a6d1ba2dd792cb16214              1   \n",
            "1   00018f77f2f0320c557190d7a144bdd3              1   \n",
            "2   000229ec398224ef6ca0657da4fc703e              1   \n",
            "3   00024acbcdf0a6daa1e931b038114c75              1   \n",
            "4   00042b26cf59d7ce69dfabb4e55b4fd9              1   \n",
            "5   00048cc3ae777c65dbb7d2a0634bc1ea              1   \n",
            "6   00054e8431b9d7675808bcb819fb4a32              1   \n",
            "7   000576fe39319847cbb9d288c5617fa6              1   \n",
            "8   0005a1a1728c9d785b8e2b08b904576c              1   \n",
            "9   0005f50442cb953dcd1d21e1fb923495              1   \n",
            "10  00061f2a7bc09da83e415a52dc8a4af1              1   \n",
            "11  00063b381e2406b52ad429470734ebd5              1   \n",
            "12  0006ec9db01a64e59a68b2c340bf65a7              1   \n",
            "13  0008288aa423d2a3f00fcb17cd7d8719              1   \n",
            "14  0008288aa423d2a3f00fcb17cd7d8719              2   \n",
            "15  0009792311464db532ff765bf7b182ae              1   \n",
            "16  0009c9a17f916a706d71784483a5d643              1   \n",
            "17  000aed2e25dbad2f9ddb70584c5a2ded              1   \n",
            "18  000c3e6612759851cc3cbb4b83257986              1   \n",
            "19  000e562887b1f2006d75e0be9558292e              1   \n",
            "20  000e63d38ae8c00bbcb5a30573b99628              1   \n",
            "21  000e906b789b55f64edcb1f84030f90d              1   \n",
            "22  000f25f4d72195062c040b12dce9a18a              1   \n",
            "23  001021efaa8636c29475e7734483457d              1   \n",
            "24  0010b2e5201cc5f1ae7e9c6cc8f5bd00              1   \n",
            "\n",
            "                          product_id                         seller_id  \\\n",
            "0   4244733e06e7ecb4970a6e2683c13e61  48436dade18ac8b2bce089ec2a041202   \n",
            "1   e5f2d52b802189ee658865ca93d83a8f  dd7ddc04e1b6c2c614352b383efe2d36   \n",
            "2   c777355d18b72b67abbeef9df44fd0fd  5b51032eddd242adc84c38acab88f23d   \n",
            "3   7634da152a4610f1595efa32f14722fc  9d7a1d34a5052409006425275ba1c2b4   \n",
            "4   ac6c3623068f30de03045865e4e10089  df560393f3a51e74553ab94004ba5c87   \n",
            "5   ef92defde845ab8450f9d70c526ef70f  6426d21aca402a131fc0a5d0960a3c90   \n",
            "6   8d4f2bb7e93e6710a28f34fa83ee7d28  7040e82f899a04d1b434b795a43b4617   \n",
            "7   557d850972a7d6f792fd18ae1400d9b6  5996cddab893a4652a15592fb58ab8db   \n",
            "8   310ae3c140ff94b03219ad0adc3c778f  a416b6a846a11724393025641d4edd5e   \n",
            "9   4535b0e1091c278dfd193e5a1d63b39f  ba143b05f0110f0dc71ad71b4466ce92   \n",
            "10  d63c1011f49d98b976c352955b1c4bea  cc419e0650a3c5ba77189a1882b7556a   \n",
            "11  f177554ea93259a5b282f24e33f65ab6  8602a61d680a10a82cceeeda0d99ea3d   \n",
            "12  99a4788cb24856965c36a24e339b6058  4a3ca9315b744ce9f8e9374361493884   \n",
            "13  368c6c730842d78016ad823897a372db  1f50f920176fa81dab994f9023523100   \n",
            "14  368c6c730842d78016ad823897a372db  1f50f920176fa81dab994f9023523100   \n",
            "15  8cab8abac59158715e0d70a36c807415  530ec6109d11eaaf87999465c6afee01   \n",
            "16  3f27ac8e699df3d300ec4a5d8c5cf0b2  fcb5ace8bcc92f75707dc0f01a27d269   \n",
            "17  4fa33915031a8cde03dd0d3e8fb27f01  fe2032dab1a61af8794248c8196565c9   \n",
            "18  b50c950aba0dcead2c48032a690ce817  218d46b86c1881d022bce9c68a7d4b15   \n",
            "19  5ed9eaf534f6936b51d0b6c5e4d5c2e9  8cbac7e12637ed9cffa18c7875207478   \n",
            "20  553e0e7590d3116a072507a3635d2877  1c129092bf23f28a5930387c980c0dfc   \n",
            "21  57d79905de06d8897872c551bfd09358  ea8482cd71df3c1969d7b9473ff13abc   \n",
            "22  1c05e0964302b6cf68ca0d15f326c6ba  7c67e1448b00f6e969d365cea6b010ab   \n",
            "23  5d7c23067ed3fc8c6e699b9373d5890b  6560211a19b47992c3666cc44a7e94c0   \n",
            "24  5a419dbf24a8c9718fe522b81c69f61a  3504c0cb71d7fa48d967e0e4c94d59d9   \n",
            "\n",
            "    shipping_limit_date   price  freight_value        product_category_name  \\\n",
            "0   2017-09-19 09:45:35   58.90          13.29                   cool_stuff   \n",
            "1   2017-05-03 11:05:13  239.90          19.93                     pet_shop   \n",
            "2   2018-01-18 14:48:30  199.00          17.87             moveis_decoracao   \n",
            "3   2018-08-15 10:10:18   12.99          12.79                   perfumaria   \n",
            "4   2017-02-13 13:57:51  199.90          18.14           ferramentas_jardim   \n",
            "5   2017-05-23 03:55:27   21.90          12.69        utilidades_domesticas   \n",
            "6   2017-12-14 12:10:31   19.90          11.85                    telefonia   \n",
            "7   2018-07-10 12:30:45  810.00          70.75           ferramentas_jardim   \n",
            "8   2018-03-26 18:31:29  145.95          11.65                 beleza_saude   \n",
            "9   2018-07-06 14:10:56   53.99          11.40              livros_tecnicos   \n",
            "10  2018-03-29 22:28:09   59.99           8.88                 beleza_saude   \n",
            "11  2018-07-31 17:30:39   45.00          12.98  fashion_bolsas_e_acessorios   \n",
            "12  2018-07-26 17:24:20   74.00          23.32              cama_mesa_banho   \n",
            "13  2018-02-21 02:55:52   49.90          13.37           ferramentas_jardim   \n",
            "14  2018-02-21 02:55:52   49.90          13.37           ferramentas_jardim   \n",
            "15  2018-08-17 12:15:10   99.90          27.65                esporte_lazer   \n",
            "16  2018-05-02 09:31:53  639.00          11.34               consoles_games   \n",
            "17  2018-05-16 20:57:03  144.00           8.77                   perfumaria   \n",
            "18  2017-08-21 03:33:13   99.00          13.71                esporte_lazer   \n",
            "19  2018-02-28 12:08:37   25.00          16.11                   cool_stuff   \n",
            "20  2018-03-29 20:07:49   47.90           8.88              cama_mesa_banho   \n",
            "21  2017-11-27 19:09:02   21.99          11.85                    telefonia   \n",
            "22  2018-03-21 11:10:11  119.99          44.40            moveis_escritorio   \n",
            "23  2018-03-05 09:35:41   49.00          15.10  fashion_bolsas_e_acessorios   \n",
            "24  2017-09-15 18:04:37   48.90          16.60                   cool_stuff   \n",
            "\n",
            "    product_name_lenght  product_description_lenght  product_photos_qty  \\\n",
            "0                  58.0                       598.0                 4.0   \n",
            "1                  56.0                       239.0                 2.0   \n",
            "2                  59.0                       695.0                 2.0   \n",
            "3                  42.0                       480.0                 1.0   \n",
            "4                  59.0                       409.0                 1.0   \n",
            "5                  36.0                       558.0                 1.0   \n",
            "6                  52.0                       815.0                 1.0   \n",
            "7                  39.0                      1310.0                 3.0   \n",
            "8                  59.0                       493.0                 1.0   \n",
            "9                  52.0                      1192.0                 1.0   \n",
            "10                 57.0                       614.0                 1.0   \n",
            "11                 35.0                        60.0                 1.0   \n",
            "12                 54.0                       245.0                 1.0   \n",
            "13                 57.0                       366.0                 2.0   \n",
            "14                 57.0                       366.0                 2.0   \n",
            "15                 56.0                      1392.0                 4.0   \n",
            "16                 37.0                      1172.0                 2.0   \n",
            "17                 43.0                       116.0                 1.0   \n",
            "18                 58.0                      2584.0                 1.0   \n",
            "19                 51.0                       693.0                 3.0   \n",
            "20                 38.0                       735.0                 5.0   \n",
            "21                 59.0                       540.0                 4.0   \n",
            "22                 46.0                      1159.0                 1.0   \n",
            "23                 54.0                       151.0                 3.0   \n",
            "24                 53.0                       537.0                 2.0   \n",
            "\n",
            "    product_weight_g  product_length_cm  product_height_cm  product_width_cm  \n",
            "0              650.0               28.0                9.0              14.0  \n",
            "1            30000.0               50.0               30.0              40.0  \n",
            "2             3050.0               33.0               13.0              33.0  \n",
            "3              200.0               16.0               10.0              15.0  \n",
            "4             3750.0               35.0               40.0              30.0  \n",
            "5              450.0               24.0                8.0              15.0  \n",
            "6              200.0               27.0                5.0              20.0  \n",
            "7            13805.0               35.0               75.0              45.0  \n",
            "8             2000.0               30.0               12.0              16.0  \n",
            "9              850.0               29.0                3.0              21.0  \n",
            "10             950.0               35.0               25.0              20.0  \n",
            "11             200.0               16.0               16.0              11.0  \n",
            "12            1383.0               50.0               10.0              40.0  \n",
            "13            1650.0               30.0               22.0              30.0  \n",
            "14            1650.0               30.0               22.0              30.0  \n",
            "15            1050.0               40.0               20.0              30.0  \n",
            "16             200.0               16.0                5.0              12.0  \n",
            "17             468.0               23.0               18.0              19.0  \n",
            "18            1800.0               16.0               16.0              16.0  \n",
            "19             600.0               20.0               20.0              21.0  \n",
            "20             800.0               20.0               20.0              20.0  \n",
            "21             300.0               17.0                4.0              12.0  \n",
            "22            9375.0               55.0               54.0              19.0  \n",
            "23             250.0               16.0                2.0              20.0  \n",
            "24            1800.0               34.0                5.0              34.0  \n"
          ]
        }
      ],
      "source": [
        "order_product_df = pd.merge(\n",
        "    left=orders_item_df,\n",
        "    right=product_df,\n",
        "    how=\"left\",\n",
        "    left_on=\"product_id\",\n",
        "    right_on=\"product_id\"\n",
        ")\n",
        "print(order_product_df.head(25))"
      ]
    },
    {
      "cell_type": "code",
      "execution_count": 85,
      "metadata": {
        "colab": {
          "base_uri": "https://localhost:8080/"
        },
        "id": "6AtwJEJwmAEl",
        "outputId": "a97b2e2e-3b1c-46be-e8a2-209863175457"
      },
      "outputs": [
        {
          "name": "stdout",
          "output_type": "stream",
          "text": [
            "                            order_id                       customer_id  \\\n",
            "0   e481f51cbdc54678b7cc49136f2d6af7  9ef432eb6251297304e76186b10a928d   \n",
            "1   53cdb2fc8bc7dce0b6741e2150273451  b0830fb4747a6c6d20dea0b8c802d7ef   \n",
            "2   47770eb9100c2d0c44946d9cf07ec65d  41ce2a54c0b03bf3443c3d931a367089   \n",
            "3   949d5b44dbf5de918fe9c16f97b45f8a  f88197465ea7920adcdbec7375364d82   \n",
            "4   ad21c59c0840e6cb83a9ceb5573f8159  8ab97904e6daea8866dbdbc4fb7aad2c   \n",
            "5   a4591c265e18cb1dcee52889e2d8acc3  503740e9ca751ccdda7ba28e9ab8f608   \n",
            "6   136cce7faa42fdb2cefd53fdc79a6098  ed0271e0b7da060a393796590e7b737a   \n",
            "7   6514b8ad8028c9f2cc2374ded245783f  9bdf08b4b3b52b5526ff42d37d47f222   \n",
            "8   76c6e866289321a7c93b82b54852dc33  f54a9f0e6b351c431402b8461ea51999   \n",
            "9   e69bfb5eb88e0ed6a785585b27e16dbf  31ad1d1b63eb9962463f764d4e6e0c9d   \n",
            "10  e6ce16cb79ec1d90b1da9085a6118aeb  494dded5b201313c64ed7f100595b95c   \n",
            "11  34513ce0c4fab462a55830c0989c7edb  7711cf624183d843aafe81855097bc37   \n",
            "12  82566a660a982b15fb86e904c8d32918  d3e3b74c766bc6214e0c830b17ee2341   \n",
            "13  5ff96c15d0b717ac6ad1f3d77225a350  19402a48fe860416adf93348aba37740   \n",
            "14  432aaf21d85167c2c86ec9448c4e42cc  3df704f53d3f1d4818840b34ec672a9f   \n",
            "15  dcb36b511fcac050b97cd5c05de84dc3  3b6828a50ffe546942b7a473d70ac0fc   \n",
            "16  403b97836b0c04a622354cf531062e5f  738b086814c6fcc74b8cc583f8516ee3   \n",
            "17  116f0b09343b49556bbad5f35bee0cdf  3187789bec990987628d7a9beb4dd6ac   \n",
            "18  85ce859fd6dc634de8d2f1e290444043  059f7fc5719c7da6cbafe370971a8d70   \n",
            "19  83018ec114eee8641c97e08f7b4e926f  7f8c8b9c2ae27bf3300f670c3d478be8   \n",
            "20  203096f03d82e0dffbc41ebc2e2bcfb7  d2b091571da224a1b36412c18bc3bbfe   \n",
            "21  f848643eec1d69395095eb3840d2051e  4fa1cd166fa598be6de80fa84eaade43   \n",
            "22  2807d0e504d6d4894d41672727bc139f  72ae281627a6102d9b3718528b420f8a   \n",
            "23  95266dbfb7e20354baba07964dac78d5  a166da34890074091a942054b36e4265   \n",
            "24  f3e7c359154d965827355f39d6b1fdac  62b423aab58096ca514ba6aa06be2f98   \n",
            "\n",
            "   order_status order_purchase_timestamp   order_approved_at  \\\n",
            "0     delivered      2017-10-02 10:56:33 2017-10-02 11:07:15   \n",
            "1     delivered      2018-07-24 20:41:37 2018-07-26 03:24:27   \n",
            "2     delivered      2018-08-08 08:38:49 2018-08-08 08:55:23   \n",
            "3     delivered      2017-11-18 19:28:06 2017-11-18 19:45:59   \n",
            "4     delivered      2018-02-13 21:18:39 2018-02-13 22:20:29   \n",
            "5     delivered      2017-07-09 21:57:05 2017-07-09 22:10:13   \n",
            "6      invoiced      2017-04-11 12:22:08 2017-04-13 13:25:17   \n",
            "7     delivered      2017-05-16 13:10:30 2017-05-16 13:22:11   \n",
            "8     delivered      2017-01-23 18:29:09 2017-01-25 02:50:47   \n",
            "9     delivered      2017-07-29 11:55:02 2017-07-29 12:05:32   \n",
            "10    delivered      2017-05-16 19:41:10 2017-05-16 19:50:18   \n",
            "11    delivered      2017-07-13 19:58:11 2017-07-13 20:10:08   \n",
            "12    delivered      2018-06-07 10:06:19 2018-06-09 03:13:12   \n",
            "13    delivered      2018-07-25 17:44:10 2018-07-25 17:55:14   \n",
            "14    delivered      2018-03-01 14:14:28 2018-03-01 15:10:47   \n",
            "15    delivered      2018-06-07 19:03:12 2018-06-12 23:31:02   \n",
            "16    delivered      2018-01-02 19:00:43 2018-01-02 19:09:04   \n",
            "17    delivered      2017-12-26 23:41:31 2017-12-26 23:50:22   \n",
            "18    delivered      2017-11-21 00:03:41 2017-11-21 00:14:22   \n",
            "19    delivered      2017-10-26 15:54:26 2017-10-26 16:08:14   \n",
            "20    delivered      2017-09-18 14:31:30 2017-09-19 04:04:09   \n",
            "21    delivered      2018-03-15 08:52:40 2018-03-15 09:09:31   \n",
            "22    delivered      2018-02-03 20:37:35 2018-02-03 20:50:22   \n",
            "23    delivered      2018-01-08 07:55:29 2018-01-08 08:07:31   \n",
            "24    delivered      2018-08-09 11:44:40 2018-08-10 03:24:51   \n",
            "\n",
            "   order_delivered_carrier_date order_delivered_customer_date  \\\n",
            "0           2017-10-04 19:55:00           2017-10-10 21:25:13   \n",
            "1           2018-07-26 14:31:00           2018-08-07 15:27:45   \n",
            "2           2018-08-08 13:50:00           2018-08-17 18:06:29   \n",
            "3           2017-11-22 13:39:59           2017-12-02 00:28:42   \n",
            "4           2018-02-14 19:46:34           2018-02-16 18:17:02   \n",
            "5           2017-07-11 14:58:04           2017-07-26 10:57:55   \n",
            "6                           NaT                           NaT   \n",
            "7           2017-05-22 10:07:46           2017-05-26 12:55:51   \n",
            "8           2017-01-26 14:16:31           2017-02-02 14:08:10   \n",
            "9           2017-08-10 19:45:24           2017-08-16 17:14:30   \n",
            "10          2017-05-18 11:40:40           2017-05-29 11:18:31   \n",
            "11          2017-07-14 18:43:29           2017-07-19 14:04:48   \n",
            "12          2018-06-11 13:29:00           2018-06-19 12:05:52   \n",
            "13          2018-07-26 13:16:00           2018-07-30 15:52:25   \n",
            "14          2018-03-02 21:09:20           2018-03-12 23:36:26   \n",
            "15          2018-06-11 14:54:00           2018-06-21 15:34:32   \n",
            "16          2018-01-03 18:19:09           2018-01-20 01:38:59   \n",
            "17          2017-12-28 18:33:05           2018-01-08 22:36:36   \n",
            "18          2017-11-23 21:32:26           2017-11-27 18:28:00   \n",
            "19          2017-10-26 21:46:53           2017-11-08 22:22:00   \n",
            "20          2017-10-06 17:50:03           2017-10-09 22:23:46   \n",
            "21          2018-03-15 19:52:48           2018-03-19 18:08:32   \n",
            "22          2018-02-05 22:37:28           2018-02-08 16:13:46   \n",
            "23          2018-01-24 23:16:37           2018-01-26 17:32:38   \n",
            "24          2018-08-10 12:29:00           2018-08-13 18:24:27   \n",
            "\n",
            "   order_estimated_delivery_date                customer_unique_id  \\\n",
            "0                     2017-10-18  7c396fd4830fd04220f754e42b4e5bff   \n",
            "1                     2018-08-13  af07308b275d755c9edb36a90c618231   \n",
            "2                     2018-09-04  3a653a41f6f9fc3d2a113cf8398680e8   \n",
            "3                     2017-12-15  7c142cf63193a1473d2e66489a9ae977   \n",
            "4                     2018-02-26  72632f0f9dd73dfee390c9b22eb56dd6   \n",
            "5                     2017-08-01  80bb27c7c16e8f973207a5086ab329e2   \n",
            "6                     2017-05-09  36edbb3fb164b1f16485364b6fb04c73   \n",
            "7                     2017-06-07  932afa1e708222e5821dac9cd5db4cae   \n",
            "8                     2017-03-06  39382392765b6dc74812866ee5ee92a7   \n",
            "9                     2017-08-23  299905e3934e9e181bfb2e164dd4b4f8   \n",
            "10                    2017-06-07  f2a85dec752b8517b5e58a06ff3cd937   \n",
            "11                    2017-08-08  782987b81c92239d922aa49d6bd4200b   \n",
            "12                    2018-07-18  e97109680b052ee858d93a539597bba7   \n",
            "13                    2018-08-08  e2dfa3127fedbbca9707b36304996dab   \n",
            "14                    2018-03-21  04cf8185c71090d28baa4407b2e6d600   \n",
            "15                    2018-07-04  ccafc1c3f270410521c3c6f3b249870f   \n",
            "16                    2018-02-06  6e26bbeaa107ec34112c64e1ee31c0f5   \n",
            "17                    2018-01-29  6087cfc70fd833cf2db637a5e6e9d76b   \n",
            "18                    2017-12-11  d0ff1a7468fcc46b8fc658ab35d2a12c   \n",
            "19                    2017-11-23  634f09f6075fe9032e6c19609ffe995a   \n",
            "20                    2017-09-28  d699688533772c15a061e8ce81cb56df   \n",
            "21                    2018-03-29  68954feaafe4dd638f3bd3e2afa174ec   \n",
            "22                    2018-02-21  b8df986511d928829c3192c2ed081eba   \n",
            "23                    2018-02-21  451e48381edab7f1f6dbfa6d728616ff   \n",
            "24                    2018-08-17  9c9242ad7f1b52d926ea76778e1c0c57   \n",
            "\n",
            "    customer_zip_code_prefix            customer_city customer_state  \n",
            "0                       3149                sao paulo             SP  \n",
            "1                      47813                barreiras             BA  \n",
            "2                      75265               vianopolis             GO  \n",
            "3                      59296  sao goncalo do amarante             RN  \n",
            "4                       9195              santo andre             SP  \n",
            "5                      86320             congonhinhas             PR  \n",
            "6                      98900               santa rosa             RS  \n",
            "7                      26525                nilopolis             RJ  \n",
            "8                      99655             faxinalzinho             RS  \n",
            "9                      18075                 sorocaba             SP  \n",
            "10                     20780           rio de janeiro             RJ  \n",
            "11                      4278                sao paulo             SP  \n",
            "12                     35400               ouro preto             MG  \n",
            "13                      4812                sao paulo             SP  \n",
            "14                      5271                sao paulo             SP  \n",
            "15                     74820                  goiania             GO  \n",
            "16                     21381           rio de janeiro             RJ  \n",
            "17                     88780                 imbituba             SC  \n",
            "18                     13186              hortolandia             SP  \n",
            "19                     44024         feira de santana             BA  \n",
            "20                      4001                sao paulo             SP  \n",
            "21                      8473                sao paulo             SP  \n",
            "22                      3323                sao paulo             SP  \n",
            "23                     89070                 blumenau             SC  \n",
            "24                     18052                 sorocaba             SP  \n"
          ]
        }
      ],
      "source": [
        "order_customer_df = pd.merge(\n",
        "    left=order_df,\n",
        "    right=customers_df,\n",
        "    how=\"left\",\n",
        "    left_on=\"customer_id\",\n",
        "    right_on=\"customer_id\"\n",
        ")\n",
        "print(order_customer_df.head(25))"
      ]
    },
    {
      "cell_type": "code",
      "execution_count": 87,
      "metadata": {
        "colab": {
          "base_uri": "https://localhost:8080/"
        },
        "id": "LiCIARjl02Av",
        "outputId": "3b4f2f0c-3853-4d6a-f5b8-332e40094b73"
      },
      "outputs": [
        {
          "name": "stdout",
          "output_type": "stream",
          "text": [
            "                                order_id                       customer_id  \\\n",
            "72369   10a045cdf6a5650c21e9cfeb60384c16  a4b417188addbc05b26b72d5e44837a1   \n",
            "81227   b059ee4de278302d550a3035c4cdb740  856336203359aa6a61bf3826f7d84c49   \n",
            "38038   a2ac6dad85cf8af5b0afb510a240fe8c  4c2ec60c29d10c34bd49cb88aa85cfc4   \n",
            "105190  616fa7d4871b87832197b2a137a115d2  bf6181a85bbb4115736c0a8db1a53be3   \n",
            "59935   392ed9afd714e3c74767d0c4d3e3f477  2823ffda607a2316375088e0d00005ec   \n",
            "44086   869997fbe01f39d184956b5c6bccfdbe  55c9dad94ec1a2ba57998bdb376c230a   \n",
            "40533   5aac76cf7b07dd06fa4d50bf461d2f40  7a8a02e54cf3472df427e927f8b9c046   \n",
            "2128    ed3efbd3a87bea76c2812c66a0b32219  191984a8ba4cbb2145acb4fe35b69664   \n",
            "19393   bd35b677fd239386e9861d11ae98ab56  ad2eb5d02c0808bcd8743117f6383cf6   \n",
            "6047    ea844c92cf978ea23321fa7fe5871761  6ddc45ad08e6a2c885ca2255fc52d6df   \n",
            "95057   1ad22e16129698e1a3cc11e4350d2cb7  d6441eef3f37c3edb0d5634c3c85120b   \n",
            "11814   87ae60ef8b08ae0e5f903cacb53a6904  fea4d57ed3a45455f89c25ef3dae8ee8   \n",
            "37200   21a00b08cbeb5716bbb66105e3dbd850  002b5342c72978cf0aba6aae1f5d5293   \n",
            "118275  a89abace0dcc01eeb267a9660b5ac126  2f0524a7b1b3845a1a57fcf3910c4333   \n",
            "24684   4d59cc2a2e7bb6c0a851725f5888a9b5  ead83a4f8f7be8c3034b2e98754a6147   \n",
            "63628   afb61112fb99b07fe17e591c68c0c84c  36b182c39933d55e307096ccc3fd2970   \n",
            "87173   cfdfd7862e532c4ec1ed1c6a1b56d320  0ab5ac09913dfd3f247c7929a3799799   \n",
            "29003   0d3adebce4bebc1f80a7f36e9833f497  a7c87c25dbdded68c26c640582cb5ddb   \n",
            "47559   4637ca194b6387e2d538dc89b124b0ee  a73c1f73f5772cf801434bf984b0b1a7   \n",
            "74054   54282e97f61c23b78330c15b154c867d  4b7decb9b58e2569548b8b4c8e20e8d7   \n",
            "118182  3a3cddda5a7c27851bd96c3313412840  0b0d6095c5555fe083844281f6b093bb   \n",
            "104773  572c4bbf0f5f85a9b4a2c4fe0c7f04d5  93ccdc49f22d1b0e3664b2bc328cf23d   \n",
            "35660   2663ce3526465b7ee9809428adabdc45  032a544bbe984490f6ff7450e3c8b0bc   \n",
            "30913   bb8edfe0742a6a0279b7dff848289568  c2a1740e781cc978dbab71735cf3ce84   \n",
            "21322   0a472c47d928bf4cd8b6a7a30345eeb7  8762d94c493b70216cd453ea2320234e   \n",
            "2415    8d4c637f1accf7a88a4555f02741e606  b1dd715db389a2077f43174e7a675d07   \n",
            "104716  35a972d7f8436f405b56e36add1a7140  898b7fee99c4e42170ab69ba59be0a8b   \n",
            "82760   03ef5dedbe7492bdae72eec50764c43f  496630b6740bcca28fce9ba50d8a26ef   \n",
            "37583   168626408cb32af0ffaf76711caae1dc  6e353700bc7bcdf6ebc15d6de16d7002   \n",
            "35851   0b223d92c27432930dfe407c6aea3041  e60df9449653a95af4549bbfcb18a6eb   \n",
            "35852   0b223d92c27432930dfe407c6aea3041  e60df9449653a95af4549bbfcb18a6eb   \n",
            "118299  52018484704db3661b98ce838612b507  e450a297a7bc6839ceb0cf1a2377fa02   \n",
            "80605   d03ca98f59480e7e76c71fa83ecd8fb6  56b1ac2855cc6d7950b4ffa6a9b41b0d   \n",
            "6781    d70442bc5e3cb7438da497cc6a210f80  10a79ef2783cae3d8d678e85fde235ac   \n",
            "102109  b102b42cde7719ae4b7c0163cf4d7dbe  6df75bdce4569326dcfdf7fc9bbe5981   \n",
            "105090  912859fef5a0bd5059b6d48fa79d121a  b8c19e70d00f6927388e4f31c923d785   \n",
            "88845   fb393211459aac00af932cd7ab4fa2cc  54365416b7ef5599f54a6c7821d5d290   \n",
            "8113    bee12e8653a04e76786e8891cfb6330a  448945bc713d98b6726e82eda6249b9e   \n",
            "8115    bee12e8653a04e76786e8891cfb6330a  448945bc713d98b6726e82eda6249b9e   \n",
            "8114    bee12e8653a04e76786e8891cfb6330a  448945bc713d98b6726e82eda6249b9e   \n",
            "8111    bee12e8653a04e76786e8891cfb6330a  448945bc713d98b6726e82eda6249b9e   \n",
            "8112    bee12e8653a04e76786e8891cfb6330a  448945bc713d98b6726e82eda6249b9e   \n",
            "73857   65fdcb432cb9cfa970e3a3817b39040d  bb8cc73ebebcd23c9f69c52637229c53   \n",
            "44304   c84d88553f9878bf2c7ecda2eb211ece  c4c66f47534e09a03fc7a878a9eda5ea   \n",
            "91519   4c867c2aac81653679eff07e922441a0  8ffe52ac7d480a27180338e697eec534   \n",
            "21469   e7c290bfc31d7eed478c3d3d2d4d2953  004440537b68545ca3c341d7279bc4c0   \n",
            "21468   e7c290bfc31d7eed478c3d3d2d4d2953  004440537b68545ca3c341d7279bc4c0   \n",
            "1689    dbb786f88b6d4e52fe3cb5d771b979d6  478778636c75019554439f75286a22e3   \n",
            "79521   3064071cf67a2cc381cd53b13055eac5  931bfab7036f6763dc1bdf6e2696e08b   \n",
            "49274   00b44ba3d7c4a5e9a9ebafef9150781d  0b5f6687d659478f1747caed607c4ec5   \n",
            "\n",
            "       order_status order_purchase_timestamp   order_approved_at  \\\n",
            "72369      canceled      2018-10-17 17:30:18                 NaT   \n",
            "81227      canceled      2018-10-16 20:16:02                 NaT   \n",
            "38038      canceled      2018-10-03 18:55:29                 NaT   \n",
            "105190     canceled      2018-10-01 15:30:09                 NaT   \n",
            "59935      canceled      2018-09-29 09:13:03                 NaT   \n",
            "44086      canceled      2018-09-26 08:40:15                 NaT   \n",
            "40533      canceled      2018-09-25 11:59:18                 NaT   \n",
            "2128       canceled      2018-09-20 13:54:16                 NaT   \n",
            "19393      canceled      2018-09-17 17:21:16                 NaT   \n",
            "6047       canceled      2018-09-13 09:56:12                 NaT   \n",
            "95057      canceled      2018-09-12 15:32:16                 NaT   \n",
            "11814      canceled      2018-09-11 16:45:54                 NaT   \n",
            "37200      canceled      2018-09-10 17:51:25                 NaT   \n",
            "118275     canceled      2018-09-06 18:45:47                 NaT   \n",
            "24684      canceled      2018-09-06 14:50:07                 NaT   \n",
            "63628      canceled      2018-09-06 10:48:12                 NaT   \n",
            "87173      canceled      2018-09-03 18:45:34                 NaT   \n",
            "29003      canceled      2018-09-03 18:40:50                 NaT   \n",
            "47559      canceled      2018-09-03 14:14:25                 NaT   \n",
            "74054       shipped      2018-09-03 09:06:57 2018-09-03 17:40:06   \n",
            "118182     canceled      2018-08-31 16:13:44                 NaT   \n",
            "104773     canceled      2018-08-30 15:11:58                 NaT   \n",
            "35660      canceled      2018-08-30 13:07:46                 NaT   \n",
            "30913      canceled      2018-08-30 10:24:34                 NaT   \n",
            "21322      canceled      2018-08-30 10:14:00                 NaT   \n",
            "2415       canceled      2018-08-29 16:27:49                 NaT   \n",
            "104716    delivered      2018-08-29 15:00:37 2018-08-29 15:10:26   \n",
            "82760     delivered      2018-08-29 14:52:00 2018-08-29 15:05:22   \n",
            "37583     delivered      2018-08-29 14:18:28 2018-08-29 14:30:23   \n",
            "35851     delivered      2018-08-29 14:18:23 2018-08-29 14:31:07   \n",
            "35852     delivered      2018-08-29 14:18:23 2018-08-29 14:31:07   \n",
            "118299    delivered      2018-08-29 12:25:59 2018-08-29 12:35:17   \n",
            "80605     delivered      2018-08-29 11:06:11 2018-08-29 11:24:02   \n",
            "6781      delivered      2018-08-29 10:22:35 2018-08-29 10:35:16   \n",
            "102109     canceled      2018-08-29 10:15:27                 NaT   \n",
            "105090    delivered      2018-08-29 09:48:09 2018-08-29 10:04:16   \n",
            "88845     delivered      2018-08-29 09:14:11 2018-08-29 09:25:12   \n",
            "8113      delivered      2018-08-29 08:46:11 2018-08-29 09:04:10   \n",
            "8115      delivered      2018-08-29 08:46:11 2018-08-29 09:04:10   \n",
            "8114      delivered      2018-08-29 08:46:11 2018-08-29 09:04:10   \n",
            "8111      delivered      2018-08-29 08:46:11 2018-08-29 09:04:10   \n",
            "8112      delivered      2018-08-29 08:46:11 2018-08-29 09:04:10   \n",
            "73857      canceled      2018-08-29 08:44:38                 NaT   \n",
            "44304     delivered      2018-08-29 08:25:34 2018-08-29 08:44:13   \n",
            "91519     delivered      2018-08-28 22:51:54 2018-08-28 23:05:10   \n",
            "21469     delivered      2018-08-28 22:30:32 2018-08-28 22:43:50   \n",
            "21468     delivered      2018-08-28 22:30:32 2018-08-28 22:43:50   \n",
            "1689      delivered      2018-08-28 21:56:30 2018-08-28 22:10:12   \n",
            "79521     delivered      2018-08-28 21:56:12 2018-08-29 08:30:21   \n",
            "49274     delivered      2018-08-28 21:10:46 2018-08-28 21:25:15   \n",
            "\n",
            "       order_delivered_carrier_date order_delivered_customer_date  \\\n",
            "72369                           NaT                           NaT   \n",
            "81227                           NaT                           NaT   \n",
            "38038                           NaT                           NaT   \n",
            "105190                          NaT                           NaT   \n",
            "59935                           NaT                           NaT   \n",
            "44086                           NaT                           NaT   \n",
            "40533                           NaT                           NaT   \n",
            "2128                            NaT                           NaT   \n",
            "19393                           NaT                           NaT   \n",
            "6047                            NaT                           NaT   \n",
            "95057                           NaT                           NaT   \n",
            "11814                           NaT                           NaT   \n",
            "37200                           NaT                           NaT   \n",
            "118275                          NaT                           NaT   \n",
            "24684                           NaT                           NaT   \n",
            "63628                           NaT                           NaT   \n",
            "87173                           NaT                           NaT   \n",
            "29003                           NaT                           NaT   \n",
            "47559                           NaT                           NaT   \n",
            "74054           2018-09-04 15:25:00                           NaT   \n",
            "118182                          NaT                           NaT   \n",
            "104773                          NaT                           NaT   \n",
            "35660                           NaT                           NaT   \n",
            "30913                           NaT                           NaT   \n",
            "21322                           NaT                           NaT   \n",
            "2415                            NaT                           NaT   \n",
            "104716          2018-08-29 16:57:00           2018-08-30 16:23:36   \n",
            "82760           2018-08-29 20:01:00           2018-08-30 16:36:59   \n",
            "37583           2018-08-29 18:51:00           2018-08-30 16:52:31   \n",
            "35851           2018-08-29 15:29:00           2018-08-30 16:24:55   \n",
            "35852           2018-08-29 15:29:00           2018-08-30 16:24:55   \n",
            "118299          2018-08-29 13:38:00           2018-08-30 22:48:27   \n",
            "80605           2018-08-29 17:46:00           2018-08-30 23:56:54   \n",
            "6781            2018-08-29 19:57:00           2018-08-30 16:03:19   \n",
            "102109                          NaT                           NaT   \n",
            "105090          2018-08-29 19:01:00           2018-08-30 23:28:52   \n",
            "88845           2018-08-29 15:48:00           2018-08-30 13:03:28   \n",
            "8113            2018-08-29 13:03:00           2018-08-30 21:54:45   \n",
            "8115            2018-08-29 13:03:00           2018-08-30 21:54:45   \n",
            "8114            2018-08-29 13:03:00           2018-08-30 21:54:45   \n",
            "8111            2018-08-29 13:03:00           2018-08-30 21:54:45   \n",
            "8112            2018-08-29 13:03:00           2018-08-30 21:54:45   \n",
            "73857                           NaT                           NaT   \n",
            "44304           2018-08-29 20:01:00           2018-08-30 16:56:24   \n",
            "91519           2018-08-29 12:46:00           2018-08-31 02:03:50   \n",
            "21469           2018-08-29 15:00:00           2018-08-30 17:18:48   \n",
            "21468           2018-08-29 15:00:00           2018-08-30 17:18:48   \n",
            "1689            2018-08-29 19:02:00           2018-08-30 18:22:45   \n",
            "79521           2018-08-29 13:53:00           2018-08-30 19:04:08   \n",
            "49274           2018-08-29 13:17:00           2018-08-30 13:38:53   \n",
            "\n",
            "       order_estimated_delivery_date                customer_unique_id  \\\n",
            "72369                     2018-10-30  87ab9fec999db8bd5774917de3cdf01c   \n",
            "81227                     2018-11-12  262e1f1e26e92e86375f86840b4ffd63   \n",
            "38038                     2018-10-16  af5454198a97379394cacf676e1e96cb   \n",
            "105190                    2018-10-23  634420a0ea42302205032ed44ac7fccc   \n",
            "59935                     2018-10-15  9bb92bebd4cb7511e1a02d5e50bc4655   \n",
            "44086                     2018-10-25  ba84da8c159659f116329563a0a981dd   \n",
            "40533                     2018-10-11  9c3af16efacb7aa06aa3bc674556c5d6   \n",
            "2128                      2018-10-17  08642cd329066fe11ec63293f714f2f8   \n",
            "19393                     2018-10-01  ef0103e9602d12594d19c2b666219bc1   \n",
            "6047                      2018-09-27  c1ee153508c6b785b491443a95ff364e   \n",
            "95057                     2018-09-26  ef0103e9602d12594d19c2b666219bc1   \n",
            "11814                     2018-09-26  09687a7b7431a93b5c53b50ba779bf94   \n",
            "37200                     2018-09-20  76e5f3bca2b1f5c510c41563c2ea31a4   \n",
            "118275                    2018-09-27  d05c44a138277ad325d915c6b7ccbcdf   \n",
            "24684                     2018-09-21  230a1e9f42924d41f37fd22a1d4a9707   \n",
            "63628                     2018-09-19  0a5dadb73145d29f42f703c97c377ae8   \n",
            "87173                     2018-09-14  af5454198a97379394cacf676e1e96cb   \n",
            "29003                     2018-10-02  ba84da8c159659f116329563a0a981dd   \n",
            "47559                     2018-09-10  968fac81e2c44fb6c1e3ac2a45e6a102   \n",
            "74054                     2018-09-06  ff22e30958c13ffe219db7d711e8f564   \n",
            "118182                    2018-10-01  e90598185d2427a35e32ef241a5c04aa   \n",
            "104773                    2018-09-14  230a1e9f42924d41f37fd22a1d4a9707   \n",
            "35660                     2018-09-12  eb240714223915add224beff2d844e53   \n",
            "30913                     2018-09-18  91544d22848a922381b73b5e21ad58ff   \n",
            "21322                     2018-10-02  3158fc4f60ca92412de397461b64cee3   \n",
            "2415                      2018-09-13  a8dd81392e5eee5d979c629a76abec2a   \n",
            "104716                    2018-09-05  24ac2b4327e25baf39f2119e4228976a   \n",
            "82760                     2018-09-03  b701bebbdf478f5500348f03aff62121   \n",
            "37583                     2018-09-11  7febafa06d9d8f232a900a2937f04338   \n",
            "35851                     2018-09-04  5c58de6fb80e93396e2f35642666b693   \n",
            "35852                     2018-09-04  5c58de6fb80e93396e2f35642666b693   \n",
            "118299                    2018-09-03  7a22d14aa3c3599238509ddca4b93b01   \n",
            "80605                     2018-09-04  0421e7a23f21e5d54efed456aedbc513   \n",
            "6781                      2018-09-04  21dbe8eabd00b34492a939c540e2b1a7   \n",
            "102109                    2018-09-05  e6615c36920f67f15822a79168d7d32d   \n",
            "105090                    2018-09-04  0c6d7218d5f3fa14514fd29865269993   \n",
            "88845                     2018-09-04  b4dcade04bc548b7e3b0243c801f8c26   \n",
            "8113                      2018-09-11  afbcfd0b9c5233e7ccc73428526fbb52   \n",
            "8115                      2018-09-11  afbcfd0b9c5233e7ccc73428526fbb52   \n",
            "8114                      2018-09-11  afbcfd0b9c5233e7ccc73428526fbb52   \n",
            "8111                      2018-09-11  afbcfd0b9c5233e7ccc73428526fbb52   \n",
            "8112                      2018-09-11  afbcfd0b9c5233e7ccc73428526fbb52   \n",
            "73857                     2018-09-13  ef0103e9602d12594d19c2b666219bc1   \n",
            "44304                     2018-09-03  f80013faf776e37bcea7634d59c2181e   \n",
            "91519                     2018-08-31  36a5c01d940c382346247b3e6c485c2d   \n",
            "21469                     2018-09-12  9dfcc502727549f99c9f73dbd28b35e9   \n",
            "21468                     2018-09-12  9dfcc502727549f99c9f73dbd28b35e9   \n",
            "1689                      2018-09-05  a712a430955027da5bc257a10073a390   \n",
            "79521                     2018-09-03  1041688b50cfd8ef6df6086a1746a30c   \n",
            "49274                     2018-09-26  77367b6fbb034ca710d4f41aad009151   \n",
            "\n",
            "        customer_zip_code_prefix  ... order_item_id  \\\n",
            "72369                      18077  ...           NaN   \n",
            "81227                      64600  ...           NaN   \n",
            "38038                      11900  ...           NaN   \n",
            "105190                     27175  ...           NaN   \n",
            "59935                       7176  ...           NaN   \n",
            "44086                      25635  ...           NaN   \n",
            "40533                      30170  ...           NaN   \n",
            "2128                       33030  ...           NaN   \n",
            "19393                      30810  ...           NaN   \n",
            "6047                       89300  ...           NaN   \n",
            "95057                      30810  ...           NaN   \n",
            "11814                      12010  ...           NaN   \n",
            "37200                      22775  ...           NaN   \n",
            "118275                      5344  ...           NaN   \n",
            "24684                       6540  ...           NaN   \n",
            "63628                      11708  ...           NaN   \n",
            "87173                      11900  ...           NaN   \n",
            "29003                      25635  ...           NaN   \n",
            "47559                       4685  ...           NaN   \n",
            "74054                       2989  ...           1.0   \n",
            "118182                     11075  ...           NaN   \n",
            "104773                      6540  ...           NaN   \n",
            "35660                      19026  ...           NaN   \n",
            "30913                       8072  ...           NaN   \n",
            "21322                      13175  ...           NaN   \n",
            "2415                       13059  ...           NaN   \n",
            "104716                     13483  ...           1.0   \n",
            "82760                       9541  ...           1.0   \n",
            "37583                      38600  ...           1.0   \n",
            "35851                      80045  ...           1.0   \n",
            "35852                      80045  ...           2.0   \n",
            "118299                      5863  ...           1.0   \n",
            "80605                      13322  ...           1.0   \n",
            "6781                        2413  ...           1.0   \n",
            "102109                      8735  ...           NaN   \n",
            "105090                      9625  ...           1.0   \n",
            "88845                      13184  ...           1.0   \n",
            "8113                       12243  ...           3.0   \n",
            "8115                       12243  ...           5.0   \n",
            "8114                       12243  ...           4.0   \n",
            "8111                       12243  ...           1.0   \n",
            "8112                       12243  ...           2.0   \n",
            "73857                      30810  ...           NaN   \n",
            "44304                       4716  ...           1.0   \n",
            "91519                       8080  ...           1.0   \n",
            "21469                       3059  ...           2.0   \n",
            "21468                       3059  ...           1.0   \n",
            "1689                        6036  ...           1.0   \n",
            "79521                      25720  ...           1.0   \n",
            "49274                       9185  ...           1.0   \n",
            "\n",
            "                              product_id                         seller_id  \\\n",
            "72369                                NaN                               NaN   \n",
            "81227                                NaN                               NaN   \n",
            "38038                                NaN                               NaN   \n",
            "105190                               NaN                               NaN   \n",
            "59935                                NaN                               NaN   \n",
            "44086                                NaN                               NaN   \n",
            "40533                                NaN                               NaN   \n",
            "2128                                 NaN                               NaN   \n",
            "19393                                NaN                               NaN   \n",
            "6047                                 NaN                               NaN   \n",
            "95057                                NaN                               NaN   \n",
            "11814                                NaN                               NaN   \n",
            "37200                                NaN                               NaN   \n",
            "118275                               NaN                               NaN   \n",
            "24684                                NaN                               NaN   \n",
            "63628                                NaN                               NaN   \n",
            "87173                                NaN                               NaN   \n",
            "29003                                NaN                               NaN   \n",
            "47559                                NaN                               NaN   \n",
            "74054   b98992ea80b467987a7fbb88e7f2076a  25be943a321c8938947bdaabca979a90   \n",
            "118182                               NaN                               NaN   \n",
            "104773                               NaN                               NaN   \n",
            "35660                                NaN                               NaN   \n",
            "30913                                NaN                               NaN   \n",
            "21322                                NaN                               NaN   \n",
            "2415                                 NaN                               NaN   \n",
            "104716  d04857e7b4b708ee8b8b9921163edba3  9f505651f4a6abe901a56cdc21508025   \n",
            "82760   c7f27c5bef2338541c772b5776403e6a  7d7866a99a8656a42c7ff6352a433410   \n",
            "37583   bdcf6a834e8faa30dac3886c7a58e92e  2a84855fd20af891be03bc5924d2b453   \n",
            "35851   2b4472df15512a2825ae86fd9ae79335  67bf6941ba2f1fa1d02c375766bc3e53   \n",
            "35852   2b4472df15512a2825ae86fd9ae79335  67bf6941ba2f1fa1d02c375766bc3e53   \n",
            "118299  777798445efd625458a90c13f3b3e6e7  5f2684dab12e59f83bef73ae57724e45   \n",
            "80605   06601c3059e35a3bf65e72f2fd2ac626  6b90f847357d8981edd79a1eb1bf0acb   \n",
            "6781    9a8706b8c060b16e5f0d2925f20bc35b  0be8ff43f22e456b4e0371b2245e4d01   \n",
            "102109                               NaN                               NaN   \n",
            "105090  9865c67a74684715521d1e70226cce0b  fa1c13f2614d7b5c4749cbc52fecda94   \n",
            "88845   b6b76b074ed0d77d0f3443b12d8adb5e  6560211a19b47992c3666cc44a7e94c0   \n",
            "8113    8d4dac6177fb8134f26fb4c5cc6c0aff  c70c1b0d8ca86052f45a432a38b73958   \n",
            "8115    8d4dac6177fb8134f26fb4c5cc6c0aff  c70c1b0d8ca86052f45a432a38b73958   \n",
            "8114    8d4dac6177fb8134f26fb4c5cc6c0aff  c70c1b0d8ca86052f45a432a38b73958   \n",
            "8111    8d4dac6177fb8134f26fb4c5cc6c0aff  c70c1b0d8ca86052f45a432a38b73958   \n",
            "8112    8d4dac6177fb8134f26fb4c5cc6c0aff  c70c1b0d8ca86052f45a432a38b73958   \n",
            "73857                                NaN                               NaN   \n",
            "44304   24bc2932a12c983f8e76d828b65cf39b  5a413ade68e8f8d93071a7f52a64cb9e   \n",
            "91519   99c803fd17abc7a255efe370d53744e3  6b90f847357d8981edd79a1eb1bf0acb   \n",
            "21469   44406b87e5ac6494cdb0c9dccd3b88d3  7dc8c42cc750eeafea6c85712ffee9bf   \n",
            "21468   44406b87e5ac6494cdb0c9dccd3b88d3  7dc8c42cc750eeafea6c85712ffee9bf   \n",
            "1689    39a1a3b9314738724fce4b2907ae6686  da8622b14eb17ae2831f4ac5b9dab84a   \n",
            "79521   15de022edf1005363381e66bed514528  537eb890efff034a88679788b647c564   \n",
            "49274   d9a5a5120d4d357871acd5408cb10e18  20d83f3ef0e6925fd74bfd59170babf7   \n",
            "\n",
            "        shipping_limit_date   price freight_value  payment_sequential  \\\n",
            "72369                   NaN     NaN           NaN                 NaN   \n",
            "81227                   NaN     NaN           NaN                 NaN   \n",
            "38038                   NaN     NaN           NaN                 NaN   \n",
            "105190                  NaN     NaN           NaN                 NaN   \n",
            "59935                   NaN     NaN           NaN                 NaN   \n",
            "44086                   NaN     NaN           NaN                 NaN   \n",
            "40533                   NaN     NaN           NaN                 NaN   \n",
            "2128                    NaN     NaN           NaN                 NaN   \n",
            "19393                   NaN     NaN           NaN                 NaN   \n",
            "6047                    NaN     NaN           NaN                 NaN   \n",
            "95057                   NaN     NaN           NaN                 NaN   \n",
            "11814                   NaN     NaN           NaN                 NaN   \n",
            "37200                   NaN     NaN           NaN                 NaN   \n",
            "118275                  NaN     NaN           NaN                 NaN   \n",
            "24684                   NaN     NaN           NaN                 NaN   \n",
            "63628                   NaN     NaN           NaN                 NaN   \n",
            "87173                   NaN     NaN           NaN                 NaN   \n",
            "29003                   NaN     NaN           NaN                 NaN   \n",
            "47559                   NaN     NaN           NaN                 NaN   \n",
            "74054   2018-09-05 17:30:54  145.00         21.46                 1.0   \n",
            "118182                  NaN     NaN           NaN                 NaN   \n",
            "104773                  NaN     NaN           NaN                 NaN   \n",
            "35660                   NaN     NaN           NaN                 NaN   \n",
            "30913                   NaN     NaN           NaN                 NaN   \n",
            "21322                   NaN     NaN           NaN                 NaN   \n",
            "2415                    NaN     NaN           NaN                 NaN   \n",
            "104716  2018-08-31 15:10:26   84.99          8.76                 1.0   \n",
            "82760   2018-08-31 15:05:22   24.90          8.33                 1.0   \n",
            "37583   2018-08-31 14:30:23   45.90         15.39                 1.0   \n",
            "35851   2018-08-31 14:30:19  209.00         46.48                 1.0   \n",
            "35852   2018-08-31 14:30:19  209.00         46.48                 1.0   \n",
            "118299  2018-08-31 12:35:17   63.90          9.20                 1.0   \n",
            "80605   2018-08-31 11:24:02  109.90          9.52                 1.0   \n",
            "6781    2018-09-03 10:35:16    6.90          7.39                 1.0   \n",
            "102109                  NaN     NaN           NaN                 NaN   \n",
            "105090  2018-09-03 10:04:16  169.80          8.45                 1.0   \n",
            "88845   2018-08-31 09:25:12   99.00          7.95                 1.0   \n",
            "8113    2018-09-06 09:04:10   91.55          7.90                 1.0   \n",
            "8115    2018-09-06 09:04:10   91.55          7.90                 1.0   \n",
            "8114    2018-09-06 09:04:10   91.55          7.90                 1.0   \n",
            "8111    2018-09-06 09:04:10   91.55          7.90                 1.0   \n",
            "8112    2018-09-06 09:04:10   91.55          7.90                 1.0   \n",
            "73857                   NaN     NaN           NaN                 NaN   \n",
            "44304   2018-08-31 08:44:13   65.00          9.21                 1.0   \n",
            "91519   2018-08-30 23:05:10   29.99          8.37                 1.0   \n",
            "21469   2018-09-11 22:43:50   39.99          9.03                 1.0   \n",
            "21468   2018-09-11 22:43:50   39.99          9.03                 1.0   \n",
            "1689    2018-09-04 22:10:12  149.90         12.07                 1.0   \n",
            "79521   2018-08-31 08:30:21   19.90          7.56                 1.0   \n",
            "49274   2018-08-30 21:25:15   59.90          7.68                 1.0   \n",
            "\n",
            "        payment_type  payment_installments payment_value  \n",
            "72369            NaN                   NaN           NaN  \n",
            "81227            NaN                   NaN           NaN  \n",
            "38038            NaN                   NaN           NaN  \n",
            "105190           NaN                   NaN           NaN  \n",
            "59935            NaN                   NaN           NaN  \n",
            "44086            NaN                   NaN           NaN  \n",
            "40533            NaN                   NaN           NaN  \n",
            "2128             NaN                   NaN           NaN  \n",
            "19393            NaN                   NaN           NaN  \n",
            "6047             NaN                   NaN           NaN  \n",
            "95057            NaN                   NaN           NaN  \n",
            "11814            NaN                   NaN           NaN  \n",
            "37200            NaN                   NaN           NaN  \n",
            "118275           NaN                   NaN           NaN  \n",
            "24684            NaN                   NaN           NaN  \n",
            "63628            NaN                   NaN           NaN  \n",
            "87173            NaN                   NaN           NaN  \n",
            "29003            NaN                   NaN           NaN  \n",
            "47559            NaN                   NaN           NaN  \n",
            "74054        voucher                   1.0        166.46  \n",
            "118182           NaN                   NaN           NaN  \n",
            "104773           NaN                   NaN           NaN  \n",
            "35660            NaN                   NaN           NaN  \n",
            "30913            NaN                   NaN           NaN  \n",
            "21322            NaN                   NaN           NaN  \n",
            "2415             NaN                   NaN           NaN  \n",
            "104716   credit_card                   1.0         93.75  \n",
            "82760    credit_card                   1.0         33.23  \n",
            "37583        voucher                   1.0         61.29  \n",
            "35851    credit_card                   8.0        510.96  \n",
            "35852    credit_card                   8.0        510.96  \n",
            "118299   credit_card                   7.0         73.10  \n",
            "80605    credit_card                   2.0        119.42  \n",
            "6781     credit_card                   1.0         14.29  \n",
            "102109           NaN                   NaN           NaN  \n",
            "105090   credit_card                   1.0        178.25  \n",
            "88845    credit_card                   1.0        106.95  \n",
            "8113     credit_card                   2.0        497.25  \n",
            "8115     credit_card                   2.0        497.25  \n",
            "8114     credit_card                   2.0        497.25  \n",
            "8111     credit_card                   2.0        497.25  \n",
            "8112     credit_card                   2.0        497.25  \n",
            "73857            NaN                   NaN           NaN  \n",
            "44304    credit_card                   1.0         74.21  \n",
            "91519    credit_card                   1.0         38.36  \n",
            "21469    credit_card                   1.0         98.04  \n",
            "21468    credit_card                   1.0         98.04  \n",
            "1689     credit_card                   8.0        161.97  \n",
            "79521    credit_card                   2.0         27.46  \n",
            "49274    credit_card                   1.0         67.58  \n",
            "\n",
            "[50 rows x 22 columns]\n"
          ]
        }
      ],
      "source": [
        "order_customer_payment_df = pd.merge(\n",
        "    left=order_customer_df,\n",
        "    right=order_payment_df,\n",
        "    how=\"left\",\n",
        "    left_on=\"order_id\",\n",
        "    right_on=\"order_id\"\n",
        ")\n",
        "#print(order_customer_payment_df.head(25))\n",
        "print(order_customer_payment_df.sort_values(by=\"order_purchase_timestamp\", ascending=False).head(50))"
      ]
    },
    {
      "cell_type": "code",
      "execution_count": 89,
      "metadata": {
        "colab": {
          "base_uri": "https://localhost:8080/"
        },
        "id": "mqq7Eo9i9977",
        "outputId": "ee2596b0-adf4-4dcb-f648-6175eb6d2ce7"
      },
      "outputs": [
        {
          "name": "stdout",
          "output_type": "stream",
          "text": [
            "<class 'pandas.core.frame.DataFrame'>\n",
            "RangeIndex: 118379 entries, 0 to 118378\n",
            "Data columns (total 22 columns):\n",
            " #   Column                         Non-Null Count   Dtype         \n",
            "---  ------                         --------------   -----         \n",
            " 0   order_id                       118379 non-null  object        \n",
            " 1   customer_id                    118379 non-null  object        \n",
            " 2   order_status                   118379 non-null  object        \n",
            " 3   order_purchase_timestamp       118379 non-null  datetime64[ns]\n",
            " 4   order_approved_at              118218 non-null  datetime64[ns]\n",
            " 5   order_delivered_carrier_date   116360 non-null  datetime64[ns]\n",
            " 6   order_delivered_customer_date  115037 non-null  datetime64[ns]\n",
            " 7   order_estimated_delivery_date  118379 non-null  datetime64[ns]\n",
            " 8   customer_unique_id             118379 non-null  object        \n",
            " 9   customer_zip_code_prefix       118379 non-null  int64         \n",
            " 10  customer_city                  118379 non-null  object        \n",
            " 11  customer_state                 118379 non-null  object        \n",
            " 12  order_item_id                  117604 non-null  float64       \n",
            " 13  product_id                     117604 non-null  object        \n",
            " 14  seller_id                      117604 non-null  object        \n",
            " 15  shipping_limit_date            117604 non-null  object        \n",
            " 16  price                          117604 non-null  float64       \n",
            " 17  freight_value                  117604 non-null  float64       \n",
            " 18  payment_sequential             117601 non-null  float64       \n",
            " 19  payment_type                   117601 non-null  object        \n",
            " 20  payment_installments           117601 non-null  float64       \n",
            " 21  payment_value                  117601 non-null  float64       \n",
            "dtypes: datetime64[ns](5), float64(6), int64(1), object(10)\n",
            "memory usage: 19.9+ MB\n"
          ]
        }
      ],
      "source": [
        "order_customer_payment_df.info()"
      ]
    },
    {
      "cell_type": "code",
      "execution_count": 90,
      "metadata": {
        "colab": {
          "base_uri": "https://localhost:8080/",
          "height": 335
        },
        "id": "6juFyKP8Qgjr",
        "outputId": "d02c54b4-9405-458c-aff5-6bb13af30e67"
      },
      "outputs": [
        {
          "data": {
            "text/html": [
              "<div>\n",
              "<style scoped>\n",
              "    .dataframe tbody tr th:only-of-type {\n",
              "        vertical-align: middle;\n",
              "    }\n",
              "\n",
              "    .dataframe tbody tr th {\n",
              "        vertical-align: top;\n",
              "    }\n",
              "\n",
              "    .dataframe thead th {\n",
              "        text-align: right;\n",
              "    }\n",
              "</style>\n",
              "<table border=\"1\" class=\"dataframe\">\n",
              "  <thead>\n",
              "    <tr style=\"text-align: right;\">\n",
              "      <th></th>\n",
              "      <th>order_purchase_timestamp</th>\n",
              "      <th>order_approved_at</th>\n",
              "      <th>order_delivered_carrier_date</th>\n",
              "      <th>order_delivered_customer_date</th>\n",
              "      <th>order_estimated_delivery_date</th>\n",
              "      <th>customer_zip_code_prefix</th>\n",
              "      <th>order_item_id</th>\n",
              "      <th>price</th>\n",
              "      <th>freight_value</th>\n",
              "      <th>payment_sequential</th>\n",
              "      <th>payment_installments</th>\n",
              "      <th>payment_value</th>\n",
              "    </tr>\n",
              "  </thead>\n",
              "  <tbody>\n",
              "    <tr>\n",
              "      <th>count</th>\n",
              "      <td>118379</td>\n",
              "      <td>118218</td>\n",
              "      <td>116360</td>\n",
              "      <td>115037</td>\n",
              "      <td>118379</td>\n",
              "      <td>118379.000000</td>\n",
              "      <td>117604.000000</td>\n",
              "      <td>117604.000000</td>\n",
              "      <td>117604.000000</td>\n",
              "      <td>117601.000000</td>\n",
              "      <td>117601.000000</td>\n",
              "      <td>117601.000000</td>\n",
              "    </tr>\n",
              "    <tr>\n",
              "      <th>mean</th>\n",
              "      <td>2017-12-30 05:00:15.752312320</td>\n",
              "      <td>2017-12-30 15:08:44.172384512</td>\n",
              "      <td>2018-01-03 17:52:23.945324288</td>\n",
              "      <td>2018-01-13 06:29:34.791693056</td>\n",
              "      <td>2018-01-23 01:30:52.048083200</td>\n",
              "      <td>35035.585256</td>\n",
              "      <td>1.195920</td>\n",
              "      <td>120.822849</td>\n",
              "      <td>20.045551</td>\n",
              "      <td>1.093528</td>\n",
              "      <td>2.939482</td>\n",
              "      <td>172.686752</td>\n",
              "    </tr>\n",
              "    <tr>\n",
              "      <th>min</th>\n",
              "      <td>2016-09-04 21:15:19</td>\n",
              "      <td>2016-09-15 12:16:38</td>\n",
              "      <td>2016-10-08 10:34:01</td>\n",
              "      <td>2016-10-11 13:46:32</td>\n",
              "      <td>2016-09-30 00:00:00</td>\n",
              "      <td>1003.000000</td>\n",
              "      <td>1.000000</td>\n",
              "      <td>0.850000</td>\n",
              "      <td>0.000000</td>\n",
              "      <td>1.000000</td>\n",
              "      <td>0.000000</td>\n",
              "      <td>0.000000</td>\n",
              "    </tr>\n",
              "    <tr>\n",
              "      <th>25%</th>\n",
              "      <td>2017-09-11 13:56:23</td>\n",
              "      <td>2017-09-12 00:15:09.750000128</td>\n",
              "      <td>2017-09-14 22:50:53.500000</td>\n",
              "      <td>2017-09-25 13:56:47</td>\n",
              "      <td>2017-10-02 00:00:00</td>\n",
              "      <td>11310.000000</td>\n",
              "      <td>1.000000</td>\n",
              "      <td>39.900000</td>\n",
              "      <td>13.080000</td>\n",
              "      <td>1.000000</td>\n",
              "      <td>1.000000</td>\n",
              "      <td>60.870000</td>\n",
              "    </tr>\n",
              "    <tr>\n",
              "      <th>50%</th>\n",
              "      <td>2018-01-17 18:54:36</td>\n",
              "      <td>2018-01-18 02:11:51</td>\n",
              "      <td>2018-01-23 20:43:19</td>\n",
              "      <td>2018-02-01 19:16:53</td>\n",
              "      <td>2018-02-14 00:00:00</td>\n",
              "      <td>24241.000000</td>\n",
              "      <td>1.000000</td>\n",
              "      <td>74.900000</td>\n",
              "      <td>16.290000</td>\n",
              "      <td>1.000000</td>\n",
              "      <td>2.000000</td>\n",
              "      <td>108.210000</td>\n",
              "    </tr>\n",
              "    <tr>\n",
              "      <th>75%</th>\n",
              "      <td>2018-05-03 19:17:05.500000</td>\n",
              "      <td>2018-05-04 02:55:42</td>\n",
              "      <td>2018-05-07 16:31:45</td>\n",
              "      <td>2018-05-15 16:51:55</td>\n",
              "      <td>2018-05-25 00:00:00</td>\n",
              "      <td>58475.000000</td>\n",
              "      <td>1.000000</td>\n",
              "      <td>134.900000</td>\n",
              "      <td>21.190000</td>\n",
              "      <td>1.000000</td>\n",
              "      <td>4.000000</td>\n",
              "      <td>189.260000</td>\n",
              "    </tr>\n",
              "    <tr>\n",
              "      <th>max</th>\n",
              "      <td>2018-10-17 17:30:18</td>\n",
              "      <td>2018-09-03 17:40:06</td>\n",
              "      <td>2018-09-11 19:48:28</td>\n",
              "      <td>2018-10-17 13:22:46</td>\n",
              "      <td>2018-11-12 00:00:00</td>\n",
              "      <td>99990.000000</td>\n",
              "      <td>21.000000</td>\n",
              "      <td>6735.000000</td>\n",
              "      <td>409.680000</td>\n",
              "      <td>29.000000</td>\n",
              "      <td>24.000000</td>\n",
              "      <td>13664.080000</td>\n",
              "    </tr>\n",
              "    <tr>\n",
              "      <th>std</th>\n",
              "      <td>NaN</td>\n",
              "      <td>NaN</td>\n",
              "      <td>NaN</td>\n",
              "      <td>NaN</td>\n",
              "      <td>NaN</td>\n",
              "      <td>29819.498630</td>\n",
              "      <td>0.697721</td>\n",
              "      <td>184.477367</td>\n",
              "      <td>15.861351</td>\n",
              "      <td>0.726692</td>\n",
              "      <td>2.774223</td>\n",
              "      <td>267.592290</td>\n",
              "    </tr>\n",
              "  </tbody>\n",
              "</table>\n",
              "</div>"
            ],
            "text/plain": [
              "            order_purchase_timestamp              order_approved_at  \\\n",
              "count                         118379                         118218   \n",
              "mean   2017-12-30 05:00:15.752312320  2017-12-30 15:08:44.172384512   \n",
              "min              2016-09-04 21:15:19            2016-09-15 12:16:38   \n",
              "25%              2017-09-11 13:56:23  2017-09-12 00:15:09.750000128   \n",
              "50%              2018-01-17 18:54:36            2018-01-18 02:11:51   \n",
              "75%       2018-05-03 19:17:05.500000            2018-05-04 02:55:42   \n",
              "max              2018-10-17 17:30:18            2018-09-03 17:40:06   \n",
              "std                              NaN                            NaN   \n",
              "\n",
              "        order_delivered_carrier_date  order_delivered_customer_date  \\\n",
              "count                         116360                         115037   \n",
              "mean   2018-01-03 17:52:23.945324288  2018-01-13 06:29:34.791693056   \n",
              "min              2016-10-08 10:34:01            2016-10-11 13:46:32   \n",
              "25%       2017-09-14 22:50:53.500000            2017-09-25 13:56:47   \n",
              "50%              2018-01-23 20:43:19            2018-02-01 19:16:53   \n",
              "75%              2018-05-07 16:31:45            2018-05-15 16:51:55   \n",
              "max              2018-09-11 19:48:28            2018-10-17 13:22:46   \n",
              "std                              NaN                            NaN   \n",
              "\n",
              "       order_estimated_delivery_date  customer_zip_code_prefix  order_item_id  \\\n",
              "count                         118379             118379.000000  117604.000000   \n",
              "mean   2018-01-23 01:30:52.048083200              35035.585256       1.195920   \n",
              "min              2016-09-30 00:00:00               1003.000000       1.000000   \n",
              "25%              2017-10-02 00:00:00              11310.000000       1.000000   \n",
              "50%              2018-02-14 00:00:00              24241.000000       1.000000   \n",
              "75%              2018-05-25 00:00:00              58475.000000       1.000000   \n",
              "max              2018-11-12 00:00:00              99990.000000      21.000000   \n",
              "std                              NaN              29819.498630       0.697721   \n",
              "\n",
              "               price  freight_value  payment_sequential  payment_installments  \\\n",
              "count  117604.000000  117604.000000       117601.000000         117601.000000   \n",
              "mean      120.822849      20.045551            1.093528              2.939482   \n",
              "min         0.850000       0.000000            1.000000              0.000000   \n",
              "25%        39.900000      13.080000            1.000000              1.000000   \n",
              "50%        74.900000      16.290000            1.000000              2.000000   \n",
              "75%       134.900000      21.190000            1.000000              4.000000   \n",
              "max      6735.000000     409.680000           29.000000             24.000000   \n",
              "std       184.477367      15.861351            0.726692              2.774223   \n",
              "\n",
              "       payment_value  \n",
              "count  117601.000000  \n",
              "mean      172.686752  \n",
              "min         0.000000  \n",
              "25%        60.870000  \n",
              "50%       108.210000  \n",
              "75%       189.260000  \n",
              "max     13664.080000  \n",
              "std       267.592290  "
            ]
          },
          "execution_count": 90,
          "metadata": {},
          "output_type": "execute_result"
        }
      ],
      "source": [
        "order_customer_payment_df.describe()"
      ]
    },
    {
      "cell_type": "markdown",
      "metadata": {
        "id": "sXU2GBYu8DC1"
      },
      "source": []
    },
    {
      "cell_type": "markdown",
      "metadata": {
        "id": "MMi6xGaDkbCi"
      },
      "source": [
        "**Insight:**\n",
        "- Dilakukan merge data antara data order dan customer.\n",
        "- Dilakukan merge data antara data order dan product.\n",
        "- Dilakukan merge data antara data order dan payment.\n",
        "- Yang terakhir dilakukan merge data antara data merge order customer dengan data merge order payment."
      ]
    },
    {
      "cell_type": "markdown",
      "metadata": {
        "id": "FHSiqaZp8DC1"
      },
      "source": [
        "### Assessing Data"
      ]
    },
    {
      "cell_type": "code",
      "execution_count": 91,
      "metadata": {
        "colab": {
          "base_uri": "https://localhost:8080/",
          "height": 0
        },
        "id": "ax-3tEjc9Cj1",
        "outputId": "da740a00-9b90-4e9a-cf64-eec050f4a807"
      },
      "outputs": [
        {
          "data": {
            "text/plain": [
              "order_id                0\n",
              "order_item_id           0\n",
              "product_id              0\n",
              "seller_id               0\n",
              "shipping_limit_date     0\n",
              "price                   0\n",
              "freight_value           0\n",
              "payment_sequential      3\n",
              "payment_type            3\n",
              "payment_installments    3\n",
              "payment_value           3\n",
              "dtype: int64"
            ]
          },
          "execution_count": 91,
          "metadata": {},
          "output_type": "execute_result"
        }
      ],
      "source": [
        "order_payment_df.isnull().sum()"
      ]
    },
    {
      "cell_type": "code",
      "execution_count": 92,
      "metadata": {
        "colab": {
          "base_uri": "https://localhost:8080/",
          "height": 0
        },
        "id": "IyMB_ToYEoTh",
        "outputId": "77e0e712-9ec3-45a8-e171-47b432a342c8"
      },
      "outputs": [
        {
          "data": {
            "text/plain": [
              "order_id                         0\n",
              "order_item_id                    0\n",
              "product_id                       0\n",
              "seller_id                        0\n",
              "shipping_limit_date              0\n",
              "price                            0\n",
              "freight_value                    0\n",
              "product_category_name         1603\n",
              "product_name_lenght           1603\n",
              "product_description_lenght    1603\n",
              "product_photos_qty            1603\n",
              "product_weight_g                18\n",
              "product_length_cm               18\n",
              "product_height_cm               18\n",
              "product_width_cm                18\n",
              "dtype: int64"
            ]
          },
          "execution_count": 92,
          "metadata": {},
          "output_type": "execute_result"
        }
      ],
      "source": [
        "order_product_df.isnull().sum()"
      ]
    },
    {
      "cell_type": "code",
      "execution_count": 93,
      "metadata": {
        "colab": {
          "base_uri": "https://localhost:8080/",
          "height": 0
        },
        "id": "e1utB9c8q11u",
        "outputId": "1cfcec85-d7c2-4a98-d097-af1f32f50b64"
      },
      "outputs": [
        {
          "data": {
            "text/plain": [
              "order_id                            0\n",
              "customer_id                         0\n",
              "order_status                        0\n",
              "order_purchase_timestamp            0\n",
              "order_approved_at                 160\n",
              "order_delivered_carrier_date     1783\n",
              "order_delivered_customer_date    2965\n",
              "order_estimated_delivery_date       0\n",
              "customer_unique_id                  0\n",
              "customer_zip_code_prefix            0\n",
              "customer_city                       0\n",
              "customer_state                      0\n",
              "dtype: int64"
            ]
          },
          "execution_count": 93,
          "metadata": {},
          "output_type": "execute_result"
        }
      ],
      "source": [
        "order_customer_df.isnull().sum()"
      ]
    },
    {
      "cell_type": "code",
      "execution_count": 94,
      "metadata": {
        "colab": {
          "base_uri": "https://localhost:8080/",
          "height": 0
        },
        "id": "PKvUwUo9N2yy",
        "outputId": "91254747-0ba2-4650-8636-160e7027ac93"
      },
      "outputs": [
        {
          "data": {
            "text/plain": [
              "order_id                            0\n",
              "customer_id                         0\n",
              "order_status                        0\n",
              "order_purchase_timestamp            0\n",
              "order_approved_at                 161\n",
              "order_delivered_carrier_date     2019\n",
              "order_delivered_customer_date    3342\n",
              "order_estimated_delivery_date       0\n",
              "customer_unique_id                  0\n",
              "customer_zip_code_prefix            0\n",
              "customer_city                       0\n",
              "customer_state                      0\n",
              "order_item_id                     775\n",
              "product_id                        775\n",
              "seller_id                         775\n",
              "shipping_limit_date               775\n",
              "price                             775\n",
              "freight_value                     775\n",
              "payment_sequential                778\n",
              "payment_type                      778\n",
              "payment_installments              778\n",
              "payment_value                     778\n",
              "dtype: int64"
            ]
          },
          "execution_count": 94,
          "metadata": {},
          "output_type": "execute_result"
        }
      ],
      "source": [
        "order_customer_payment_df.isnull().sum()"
      ]
    },
    {
      "cell_type": "code",
      "execution_count": 95,
      "metadata": {
        "colab": {
          "base_uri": "https://localhost:8080/"
        },
        "id": "9GLqdGuqJBCd",
        "outputId": "60187158-d127-4301-d661-030546ab249a"
      },
      "outputs": [
        {
          "data": {
            "text/plain": [
              "np.int64(0)"
            ]
          },
          "execution_count": 95,
          "metadata": {},
          "output_type": "execute_result"
        }
      ],
      "source": [
        "order_product_df.duplicated().sum()"
      ]
    },
    {
      "cell_type": "code",
      "execution_count": 96,
      "metadata": {
        "colab": {
          "base_uri": "https://localhost:8080/"
        },
        "id": "6mCE4vDcJHHE",
        "outputId": "239e04bb-c2c7-4d37-8e4c-4554b29351d5"
      },
      "outputs": [
        {
          "data": {
            "text/plain": [
              "np.int64(0)"
            ]
          },
          "execution_count": 96,
          "metadata": {},
          "output_type": "execute_result"
        }
      ],
      "source": [
        "order_payment_df.duplicated().sum()"
      ]
    },
    {
      "cell_type": "code",
      "execution_count": 97,
      "metadata": {
        "colab": {
          "base_uri": "https://localhost:8080/"
        },
        "id": "g4xsPJWMrzql",
        "outputId": "2f23e7fc-6088-4e9f-e34f-ca97ccc7703b"
      },
      "outputs": [
        {
          "data": {
            "text/plain": [
              "np.int64(0)"
            ]
          },
          "execution_count": 97,
          "metadata": {},
          "output_type": "execute_result"
        }
      ],
      "source": [
        "order_customer_df.duplicated().sum()"
      ]
    },
    {
      "cell_type": "code",
      "execution_count": 98,
      "metadata": {
        "colab": {
          "base_uri": "https://localhost:8080/"
        },
        "id": "GYuoCaevOz0K",
        "outputId": "43f7a6d2-e7e6-472a-e9ff-78780db429ac"
      },
      "outputs": [
        {
          "data": {
            "text/plain": [
              "np.int64(0)"
            ]
          },
          "execution_count": 98,
          "metadata": {},
          "output_type": "execute_result"
        }
      ],
      "source": [
        "order_customer_payment_df.duplicated().sum()"
      ]
    },
    {
      "cell_type": "markdown",
      "metadata": {
        "id": "7dtxhAPrkhPL"
      },
      "source": [
        "**Insight:**\n",
        "- terdapat beberapa data yang masih tidak memiliki nilai yang akan di beri nilai 0 di proses cleaning data.\n",
        "- tidak ada data yang duplicate."
      ]
    },
    {
      "cell_type": "markdown",
      "metadata": {
        "id": "EhN5R4hr8DC1"
      },
      "source": [
        "### Cleaning Data"
      ]
    },
    {
      "cell_type": "code",
      "execution_count": 99,
      "metadata": {
        "id": "jVnYpprE9Evz"
      },
      "outputs": [],
      "source": [
        "order_payment_df.fillna(0, inplace=True)"
      ]
    },
    {
      "cell_type": "code",
      "execution_count": 100,
      "metadata": {
        "colab": {
          "base_uri": "https://localhost:8080/",
          "height": 554
        },
        "id": "CBbhDvskGunW",
        "outputId": "305e1989-9b1c-48dc-8b83-9ca1dbd7d3c0"
      },
      "outputs": [
        {
          "data": {
            "text/plain": [
              "order_id                         0\n",
              "order_item_id                    0\n",
              "product_id                       0\n",
              "seller_id                        0\n",
              "shipping_limit_date              0\n",
              "price                            0\n",
              "freight_value                    0\n",
              "product_category_name         1603\n",
              "product_name_lenght           1603\n",
              "product_description_lenght    1603\n",
              "product_photos_qty            1603\n",
              "product_weight_g                18\n",
              "product_length_cm               18\n",
              "product_height_cm               18\n",
              "product_width_cm                18\n",
              "dtype: int64"
            ]
          },
          "execution_count": 100,
          "metadata": {},
          "output_type": "execute_result"
        }
      ],
      "source": [
        "order_product_df.isnull().sum()"
      ]
    },
    {
      "cell_type": "code",
      "execution_count": 101,
      "metadata": {
        "colab": {
          "base_uri": "https://localhost:8080/"
        },
        "id": "Q7H6a96YLzah",
        "outputId": "906e0a44-cd7d-4dd8-b842-9a9bf4e73f1f"
      },
      "outputs": [
        {
          "name": "stdout",
          "output_type": "stream",
          "text": [
            "<class 'pandas.core.frame.DataFrame'>\n",
            "RangeIndex: 117604 entries, 0 to 117603\n",
            "Data columns (total 11 columns):\n",
            " #   Column                Non-Null Count   Dtype  \n",
            "---  ------                --------------   -----  \n",
            " 0   order_id              117604 non-null  object \n",
            " 1   order_item_id         117604 non-null  int64  \n",
            " 2   product_id            117604 non-null  object \n",
            " 3   seller_id             117604 non-null  object \n",
            " 4   shipping_limit_date   117604 non-null  object \n",
            " 5   price                 117604 non-null  float64\n",
            " 6   freight_value         117604 non-null  float64\n",
            " 7   payment_sequential    117604 non-null  float64\n",
            " 8   payment_type          117604 non-null  object \n",
            " 9   payment_installments  117604 non-null  float64\n",
            " 10  payment_value         117604 non-null  float64\n",
            "dtypes: float64(5), int64(1), object(5)\n",
            "memory usage: 9.9+ MB\n"
          ]
        }
      ],
      "source": [
        "order_payment_df.info()"
      ]
    },
    {
      "cell_type": "code",
      "execution_count": 102,
      "metadata": {
        "id": "w9ArzVQVFPiR"
      },
      "outputs": [],
      "source": [
        "order_product_df.fillna(0, inplace=True)"
      ]
    },
    {
      "cell_type": "code",
      "execution_count": 103,
      "metadata": {
        "colab": {
          "base_uri": "https://localhost:8080/",
          "height": 554
        },
        "id": "1EkIX3_MG2Go",
        "outputId": "f8fb94a8-4264-43ba-ce65-dacf813e0408"
      },
      "outputs": [
        {
          "data": {
            "text/plain": [
              "order_id                      0\n",
              "order_item_id                 0\n",
              "product_id                    0\n",
              "seller_id                     0\n",
              "shipping_limit_date           0\n",
              "price                         0\n",
              "freight_value                 0\n",
              "product_category_name         0\n",
              "product_name_lenght           0\n",
              "product_description_lenght    0\n",
              "product_photos_qty            0\n",
              "product_weight_g              0\n",
              "product_length_cm             0\n",
              "product_height_cm             0\n",
              "product_width_cm              0\n",
              "dtype: int64"
            ]
          },
          "execution_count": 103,
          "metadata": {},
          "output_type": "execute_result"
        }
      ],
      "source": [
        "order_product_df.isnull().sum()"
      ]
    },
    {
      "cell_type": "code",
      "execution_count": 104,
      "metadata": {
        "colab": {
          "base_uri": "https://localhost:8080/"
        },
        "id": "otSIPxgYL_M8",
        "outputId": "8e8860dc-473b-4478-f33e-5f73175c86d0"
      },
      "outputs": [
        {
          "name": "stdout",
          "output_type": "stream",
          "text": [
            "<class 'pandas.core.frame.DataFrame'>\n",
            "RangeIndex: 112650 entries, 0 to 112649\n",
            "Data columns (total 15 columns):\n",
            " #   Column                      Non-Null Count   Dtype  \n",
            "---  ------                      --------------   -----  \n",
            " 0   order_id                    112650 non-null  object \n",
            " 1   order_item_id               112650 non-null  int64  \n",
            " 2   product_id                  112650 non-null  object \n",
            " 3   seller_id                   112650 non-null  object \n",
            " 4   shipping_limit_date         112650 non-null  object \n",
            " 5   price                       112650 non-null  float64\n",
            " 6   freight_value               112650 non-null  float64\n",
            " 7   product_category_name       112650 non-null  object \n",
            " 8   product_name_lenght         112650 non-null  float64\n",
            " 9   product_description_lenght  112650 non-null  float64\n",
            " 10  product_photos_qty          112650 non-null  float64\n",
            " 11  product_weight_g            112650 non-null  float64\n",
            " 12  product_length_cm           112650 non-null  float64\n",
            " 13  product_height_cm           112650 non-null  float64\n",
            " 14  product_width_cm            112650 non-null  float64\n",
            "dtypes: float64(9), int64(1), object(5)\n",
            "memory usage: 12.9+ MB\n"
          ]
        }
      ],
      "source": [
        "order_product_df.info()"
      ]
    },
    {
      "cell_type": "code",
      "execution_count": 105,
      "metadata": {
        "id": "tjYlJgRkbGZq"
      },
      "outputs": [],
      "source": [
        "order_customer_payment_df.dropna(inplace=True)"
      ]
    },
    {
      "cell_type": "code",
      "execution_count": 106,
      "metadata": {
        "colab": {
          "base_uri": "https://localhost:8080/",
          "height": 774
        },
        "id": "_tOHC5Tragt2",
        "outputId": "32ac364c-79bb-42d5-9eda-f59feb88f0b9"
      },
      "outputs": [
        {
          "data": {
            "text/plain": [
              "order_id                         0\n",
              "customer_id                      0\n",
              "order_status                     0\n",
              "order_purchase_timestamp         0\n",
              "order_approved_at                0\n",
              "order_delivered_carrier_date     0\n",
              "order_delivered_customer_date    0\n",
              "order_estimated_delivery_date    0\n",
              "customer_unique_id               0\n",
              "customer_zip_code_prefix         0\n",
              "customer_city                    0\n",
              "customer_state                   0\n",
              "order_item_id                    0\n",
              "product_id                       0\n",
              "seller_id                        0\n",
              "shipping_limit_date              0\n",
              "price                            0\n",
              "freight_value                    0\n",
              "payment_sequential               0\n",
              "payment_type                     0\n",
              "payment_installments             0\n",
              "payment_value                    0\n",
              "dtype: int64"
            ]
          },
          "execution_count": 106,
          "metadata": {},
          "output_type": "execute_result"
        }
      ],
      "source": [
        "order_customer_payment_df.isna().sum()"
      ]
    },
    {
      "cell_type": "code",
      "execution_count": 107,
      "metadata": {
        "colab": {
          "base_uri": "https://localhost:8080/"
        },
        "id": "2b7xsdv1PCg4",
        "outputId": "ba4cb960-19bd-4695-ffe5-fcd61933a9e4"
      },
      "outputs": [
        {
          "name": "stdout",
          "output_type": "stream",
          "text": [
            "<class 'pandas.core.frame.DataFrame'>\n",
            "Index: 115018 entries, 0 to 118378\n",
            "Data columns (total 22 columns):\n",
            " #   Column                         Non-Null Count   Dtype         \n",
            "---  ------                         --------------   -----         \n",
            " 0   order_id                       115018 non-null  object        \n",
            " 1   customer_id                    115018 non-null  object        \n",
            " 2   order_status                   115018 non-null  object        \n",
            " 3   order_purchase_timestamp       115018 non-null  datetime64[ns]\n",
            " 4   order_approved_at              115018 non-null  datetime64[ns]\n",
            " 5   order_delivered_carrier_date   115018 non-null  datetime64[ns]\n",
            " 6   order_delivered_customer_date  115018 non-null  datetime64[ns]\n",
            " 7   order_estimated_delivery_date  115018 non-null  datetime64[ns]\n",
            " 8   customer_unique_id             115018 non-null  object        \n",
            " 9   customer_zip_code_prefix       115018 non-null  int64         \n",
            " 10  customer_city                  115018 non-null  object        \n",
            " 11  customer_state                 115018 non-null  object        \n",
            " 12  order_item_id                  115018 non-null  float64       \n",
            " 13  product_id                     115018 non-null  object        \n",
            " 14  seller_id                      115018 non-null  object        \n",
            " 15  shipping_limit_date            115018 non-null  object        \n",
            " 16  price                          115018 non-null  float64       \n",
            " 17  freight_value                  115018 non-null  float64       \n",
            " 18  payment_sequential             115018 non-null  float64       \n",
            " 19  payment_type                   115018 non-null  object        \n",
            " 20  payment_installments           115018 non-null  float64       \n",
            " 21  payment_value                  115018 non-null  float64       \n",
            "dtypes: datetime64[ns](5), float64(6), int64(1), object(10)\n",
            "memory usage: 20.2+ MB\n"
          ]
        }
      ],
      "source": [
        "order_customer_payment_df.info()"
      ]
    },
    {
      "cell_type": "markdown",
      "metadata": {
        "id": "Q_5ejIqckiSP"
      },
      "source": [
        "**Insight:**\n",
        "- Dilakukan cleaning data dengan melakukan metode Imputation dengan mengganti nilai yang kosong dengan angka 0 agar tidak menghilangkan informasi data.\n",
        "- Untuk dataframe order_customer_payment yang kosong dilakukan drop untuk menghilangkan order dengan status cancel."
      ]
    },
    {
      "cell_type": "markdown",
      "metadata": {
        "id": "gp-Y6wU38DC1"
      },
      "source": [
        "## Exploratory Data Analysis (EDA)"
      ]
    },
    {
      "cell_type": "markdown",
      "metadata": {
        "id": "MW7WF2kr8DC1"
      },
      "source": [
        "### Explore ..."
      ]
    },
    {
      "cell_type": "code",
      "execution_count": 108,
      "metadata": {
        "colab": {
          "base_uri": "https://localhost:8080/",
          "height": 398
        },
        "id": "n3HNw67bYBiF",
        "outputId": "06ad2e81-92fa-41f2-853b-d4e6e99e3c12"
      },
      "outputs": [
        {
          "name": "stderr",
          "output_type": "stream",
          "text": [
            "C:\\Users\\vito.heryanto\\AppData\\Local\\Temp\\ipykernel_15492\\3081594132.py:1: FutureWarning: 'M' is deprecated and will be removed in a future version, please use 'ME' instead.\n",
            "  monthly_orders_df = order_customer_payment_df.resample(rule='M', on='order_purchase_timestamp').agg({\n"
          ]
        },
        {
          "data": {
            "text/html": [
              "<div>\n",
              "<style scoped>\n",
              "    .dataframe tbody tr th:only-of-type {\n",
              "        vertical-align: middle;\n",
              "    }\n",
              "\n",
              "    .dataframe tbody tr th {\n",
              "        vertical-align: top;\n",
              "    }\n",
              "\n",
              "    .dataframe thead th {\n",
              "        text-align: right;\n",
              "    }\n",
              "</style>\n",
              "<table border=\"1\" class=\"dataframe\">\n",
              "  <thead>\n",
              "    <tr style=\"text-align: right;\">\n",
              "      <th></th>\n",
              "      <th>order_purchase_timestamp</th>\n",
              "      <th>order_count</th>\n",
              "      <th>revenue</th>\n",
              "    </tr>\n",
              "  </thead>\n",
              "  <tbody>\n",
              "    <tr>\n",
              "      <th>22</th>\n",
              "      <td>2018-08</td>\n",
              "      <td>6351</td>\n",
              "      <td>1211240.09</td>\n",
              "    </tr>\n",
              "    <tr>\n",
              "      <th>21</th>\n",
              "      <td>2018-07</td>\n",
              "      <td>6156</td>\n",
              "      <td>1306707.42</td>\n",
              "    </tr>\n",
              "    <tr>\n",
              "      <th>20</th>\n",
              "      <td>2018-06</td>\n",
              "      <td>6096</td>\n",
              "      <td>1285396.78</td>\n",
              "    </tr>\n",
              "    <tr>\n",
              "      <th>19</th>\n",
              "      <td>2018-05</td>\n",
              "      <td>6749</td>\n",
              "      <td>1480667.59</td>\n",
              "    </tr>\n",
              "    <tr>\n",
              "      <th>18</th>\n",
              "      <td>2018-04</td>\n",
              "      <td>6798</td>\n",
              "      <td>1466607.15</td>\n",
              "    </tr>\n",
              "    <tr>\n",
              "      <th>17</th>\n",
              "      <td>2018-03</td>\n",
              "      <td>7003</td>\n",
              "      <td>1435458.33</td>\n",
              "    </tr>\n",
              "    <tr>\n",
              "      <th>16</th>\n",
              "      <td>2018-02</td>\n",
              "      <td>6556</td>\n",
              "      <td>1280014.54</td>\n",
              "    </tr>\n",
              "    <tr>\n",
              "      <th>15</th>\n",
              "      <td>2018-01</td>\n",
              "      <td>7069</td>\n",
              "      <td>1374064.02</td>\n",
              "    </tr>\n",
              "    <tr>\n",
              "      <th>14</th>\n",
              "      <td>2017-12</td>\n",
              "      <td>5513</td>\n",
              "      <td>1020067.26</td>\n",
              "    </tr>\n",
              "    <tr>\n",
              "      <th>13</th>\n",
              "      <td>2017-11</td>\n",
              "      <td>7288</td>\n",
              "      <td>1548547.86</td>\n",
              "    </tr>\n",
              "  </tbody>\n",
              "</table>\n",
              "</div>"
            ],
            "text/plain": [
              "   order_purchase_timestamp  order_count     revenue\n",
              "22                  2018-08         6351  1211240.09\n",
              "21                  2018-07         6156  1306707.42\n",
              "20                  2018-06         6096  1285396.78\n",
              "19                  2018-05         6749  1480667.59\n",
              "18                  2018-04         6798  1466607.15\n",
              "17                  2018-03         7003  1435458.33\n",
              "16                  2018-02         6556  1280014.54\n",
              "15                  2018-01         7069  1374064.02\n",
              "14                  2017-12         5513  1020067.26\n",
              "13                  2017-11         7288  1548547.86"
            ]
          },
          "execution_count": 108,
          "metadata": {},
          "output_type": "execute_result"
        }
      ],
      "source": [
        "monthly_orders_df = order_customer_payment_df.resample(rule='M', on='order_purchase_timestamp').agg({\n",
        "    \"order_id\": \"nunique\",\n",
        "    \"payment_value\": \"sum\"\n",
        "})\n",
        "monthly_orders_df.index = monthly_orders_df.index.strftime('%Y-%m')\n",
        "monthly_orders_df = monthly_orders_df.reset_index()\n",
        "monthly_orders_df.rename(columns={\n",
        "    \"order_id\": \"order_count\",\n",
        "    \"payment_value\": \"revenue\"\n",
        "}, inplace=True)\n",
        "monthly_orders_df.sort_values(by=\"order_purchase_timestamp\", ascending=False).head(10)"
      ]
    },
    {
      "cell_type": "code",
      "execution_count": 45,
      "metadata": {
        "id": "7k9Ip-VBYiYE"
      },
      "outputs": [],
      "source": []
    },
    {
      "cell_type": "code",
      "execution_count": 109,
      "metadata": {
        "colab": {
          "base_uri": "https://localhost:8080/",
          "height": 238
        },
        "id": "e9CQCZjk8DC2",
        "outputId": "a9c55b77-3873-48fe-9f7c-238786c48574"
      },
      "outputs": [
        {
          "data": {
            "text/html": [
              "<div>\n",
              "<style scoped>\n",
              "    .dataframe tbody tr th:only-of-type {\n",
              "        vertical-align: middle;\n",
              "    }\n",
              "\n",
              "    .dataframe tbody tr th {\n",
              "        vertical-align: top;\n",
              "    }\n",
              "\n",
              "    .dataframe thead tr th {\n",
              "        text-align: left;\n",
              "    }\n",
              "</style>\n",
              "<table border=\"1\" class=\"dataframe\">\n",
              "  <thead>\n",
              "    <tr>\n",
              "      <th></th>\n",
              "      <th>payment_type</th>\n",
              "      <th>order_id</th>\n",
              "      <th>payment_value</th>\n",
              "    </tr>\n",
              "    <tr>\n",
              "      <th></th>\n",
              "      <th></th>\n",
              "      <th>nunique</th>\n",
              "      <th>max</th>\n",
              "    </tr>\n",
              "  </thead>\n",
              "  <tbody>\n",
              "    <tr>\n",
              "      <th>0</th>\n",
              "      <td>0</td>\n",
              "      <td>1</td>\n",
              "      <td>0.00</td>\n",
              "    </tr>\n",
              "    <tr>\n",
              "      <th>1</th>\n",
              "      <td>boleto</td>\n",
              "      <td>19614</td>\n",
              "      <td>7274.88</td>\n",
              "    </tr>\n",
              "    <tr>\n",
              "      <th>2</th>\n",
              "      <td>credit_card</td>\n",
              "      <td>75991</td>\n",
              "      <td>13664.08</td>\n",
              "    </tr>\n",
              "    <tr>\n",
              "      <th>3</th>\n",
              "      <td>debit_card</td>\n",
              "      <td>1521</td>\n",
              "      <td>4445.50</td>\n",
              "    </tr>\n",
              "    <tr>\n",
              "      <th>4</th>\n",
              "      <td>voucher</td>\n",
              "      <td>3766</td>\n",
              "      <td>1839.05</td>\n",
              "    </tr>\n",
              "  </tbody>\n",
              "</table>\n",
              "</div>"
            ],
            "text/plain": [
              "  payment_type order_id payment_value\n",
              "                nunique           max\n",
              "0            0        1          0.00\n",
              "1       boleto    19614       7274.88\n",
              "2  credit_card    75991      13664.08\n",
              "3   debit_card     1521       4445.50\n",
              "4      voucher     3766       1839.05"
            ]
          },
          "execution_count": 109,
          "metadata": {},
          "output_type": "execute_result"
        }
      ],
      "source": [
        "order_payment_df.groupby(by=\"payment_type\").agg({\n",
        "    \"order_id\": \"nunique\",\n",
        "    \"payment_value\": \"sum\",\n",
        "    \"payment_value\": [\"max\"]\n",
        "}).reset_index().head(5)\n",
        "\n"
      ]
    },
    {
      "cell_type": "code",
      "execution_count": 110,
      "metadata": {
        "colab": {
          "base_uri": "https://localhost:8080/",
          "height": 363
        },
        "id": "NL6pcMIjRS3A",
        "outputId": "d10bac60-bd93-489d-8c1a-63a1c0da0ba8"
      },
      "outputs": [
        {
          "data": {
            "text/html": [
              "<div>\n",
              "<style scoped>\n",
              "    .dataframe tbody tr th:only-of-type {\n",
              "        vertical-align: middle;\n",
              "    }\n",
              "\n",
              "    .dataframe tbody tr th {\n",
              "        vertical-align: top;\n",
              "    }\n",
              "\n",
              "    .dataframe thead th {\n",
              "        text-align: right;\n",
              "    }\n",
              "</style>\n",
              "<table border=\"1\" class=\"dataframe\">\n",
              "  <thead>\n",
              "    <tr style=\"text-align: right;\">\n",
              "      <th></th>\n",
              "      <th>product_category_name</th>\n",
              "      <th>order_id</th>\n",
              "      <th>price</th>\n",
              "    </tr>\n",
              "  </thead>\n",
              "  <tbody>\n",
              "    <tr>\n",
              "      <th>0</th>\n",
              "      <td>cama_mesa_banho</td>\n",
              "      <td>9417</td>\n",
              "      <td>1036988.68</td>\n",
              "    </tr>\n",
              "    <tr>\n",
              "      <th>1</th>\n",
              "      <td>beleza_saude</td>\n",
              "      <td>8836</td>\n",
              "      <td>1258681.34</td>\n",
              "    </tr>\n",
              "    <tr>\n",
              "      <th>2</th>\n",
              "      <td>esporte_lazer</td>\n",
              "      <td>7720</td>\n",
              "      <td>988048.97</td>\n",
              "    </tr>\n",
              "    <tr>\n",
              "      <th>3</th>\n",
              "      <td>informatica_acessorios</td>\n",
              "      <td>6689</td>\n",
              "      <td>911954.32</td>\n",
              "    </tr>\n",
              "    <tr>\n",
              "      <th>4</th>\n",
              "      <td>moveis_decoracao</td>\n",
              "      <td>6449</td>\n",
              "      <td>729762.49</td>\n",
              "    </tr>\n",
              "    <tr>\n",
              "      <th>5</th>\n",
              "      <td>utilidades_domesticas</td>\n",
              "      <td>5884</td>\n",
              "      <td>632248.66</td>\n",
              "    </tr>\n",
              "    <tr>\n",
              "      <th>6</th>\n",
              "      <td>relogios_presentes</td>\n",
              "      <td>5624</td>\n",
              "      <td>1205005.68</td>\n",
              "    </tr>\n",
              "    <tr>\n",
              "      <th>7</th>\n",
              "      <td>telefonia</td>\n",
              "      <td>4199</td>\n",
              "      <td>323667.53</td>\n",
              "    </tr>\n",
              "    <tr>\n",
              "      <th>8</th>\n",
              "      <td>automotivo</td>\n",
              "      <td>3897</td>\n",
              "      <td>592720.11</td>\n",
              "    </tr>\n",
              "    <tr>\n",
              "      <th>9</th>\n",
              "      <td>brinquedos</td>\n",
              "      <td>3886</td>\n",
              "      <td>483946.60</td>\n",
              "    </tr>\n",
              "  </tbody>\n",
              "</table>\n",
              "</div>"
            ],
            "text/plain": [
              "    product_category_name  order_id       price\n",
              "0         cama_mesa_banho      9417  1036988.68\n",
              "1            beleza_saude      8836  1258681.34\n",
              "2           esporte_lazer      7720   988048.97\n",
              "3  informatica_acessorios      6689   911954.32\n",
              "4        moveis_decoracao      6449   729762.49\n",
              "5   utilidades_domesticas      5884   632248.66\n",
              "6      relogios_presentes      5624  1205005.68\n",
              "7               telefonia      4199   323667.53\n",
              "8              automotivo      3897   592720.11\n",
              "9              brinquedos      3886   483946.60"
            ]
          },
          "execution_count": 110,
          "metadata": {},
          "output_type": "execute_result"
        }
      ],
      "source": [
        "order_product_df.groupby(by=\"product_category_name\").agg({\n",
        "    \"order_id\": \"nunique\",\n",
        "    \"price\": \"sum\",\n",
        "}).sort_values(by=\"order_id\", ascending=False).reset_index().head(10)"
      ]
    },
    {
      "cell_type": "code",
      "execution_count": 111,
      "metadata": {
        "colab": {
          "base_uri": "https://localhost:8080/",
          "height": 363
        },
        "id": "cOPKukTHRSzp",
        "outputId": "16477053-cfe9-41c3-fcdc-e39144d7d2cd"
      },
      "outputs": [
        {
          "data": {
            "text/html": [
              "<div>\n",
              "<style scoped>\n",
              "    .dataframe tbody tr th:only-of-type {\n",
              "        vertical-align: middle;\n",
              "    }\n",
              "\n",
              "    .dataframe tbody tr th {\n",
              "        vertical-align: top;\n",
              "    }\n",
              "\n",
              "    .dataframe thead th {\n",
              "        text-align: right;\n",
              "    }\n",
              "</style>\n",
              "<table border=\"1\" class=\"dataframe\">\n",
              "  <thead>\n",
              "    <tr style=\"text-align: right;\">\n",
              "      <th></th>\n",
              "      <th>product_category_name</th>\n",
              "      <th>order_id</th>\n",
              "      <th>price</th>\n",
              "    </tr>\n",
              "  </thead>\n",
              "  <tbody>\n",
              "    <tr>\n",
              "      <th>0</th>\n",
              "      <td>beleza_saude</td>\n",
              "      <td>8836</td>\n",
              "      <td>1258681.34</td>\n",
              "    </tr>\n",
              "    <tr>\n",
              "      <th>1</th>\n",
              "      <td>relogios_presentes</td>\n",
              "      <td>5624</td>\n",
              "      <td>1205005.68</td>\n",
              "    </tr>\n",
              "    <tr>\n",
              "      <th>2</th>\n",
              "      <td>cama_mesa_banho</td>\n",
              "      <td>9417</td>\n",
              "      <td>1036988.68</td>\n",
              "    </tr>\n",
              "    <tr>\n",
              "      <th>3</th>\n",
              "      <td>esporte_lazer</td>\n",
              "      <td>7720</td>\n",
              "      <td>988048.97</td>\n",
              "    </tr>\n",
              "    <tr>\n",
              "      <th>4</th>\n",
              "      <td>informatica_acessorios</td>\n",
              "      <td>6689</td>\n",
              "      <td>911954.32</td>\n",
              "    </tr>\n",
              "    <tr>\n",
              "      <th>5</th>\n",
              "      <td>moveis_decoracao</td>\n",
              "      <td>6449</td>\n",
              "      <td>729762.49</td>\n",
              "    </tr>\n",
              "    <tr>\n",
              "      <th>6</th>\n",
              "      <td>cool_stuff</td>\n",
              "      <td>3632</td>\n",
              "      <td>635290.85</td>\n",
              "    </tr>\n",
              "    <tr>\n",
              "      <th>7</th>\n",
              "      <td>utilidades_domesticas</td>\n",
              "      <td>5884</td>\n",
              "      <td>632248.66</td>\n",
              "    </tr>\n",
              "    <tr>\n",
              "      <th>8</th>\n",
              "      <td>automotivo</td>\n",
              "      <td>3897</td>\n",
              "      <td>592720.11</td>\n",
              "    </tr>\n",
              "    <tr>\n",
              "      <th>9</th>\n",
              "      <td>ferramentas_jardim</td>\n",
              "      <td>3518</td>\n",
              "      <td>485256.46</td>\n",
              "    </tr>\n",
              "  </tbody>\n",
              "</table>\n",
              "</div>"
            ],
            "text/plain": [
              "    product_category_name  order_id       price\n",
              "0            beleza_saude      8836  1258681.34\n",
              "1      relogios_presentes      5624  1205005.68\n",
              "2         cama_mesa_banho      9417  1036988.68\n",
              "3           esporte_lazer      7720   988048.97\n",
              "4  informatica_acessorios      6689   911954.32\n",
              "5        moveis_decoracao      6449   729762.49\n",
              "6              cool_stuff      3632   635290.85\n",
              "7   utilidades_domesticas      5884   632248.66\n",
              "8              automotivo      3897   592720.11\n",
              "9      ferramentas_jardim      3518   485256.46"
            ]
          },
          "execution_count": 111,
          "metadata": {},
          "output_type": "execute_result"
        }
      ],
      "source": [
        "order_product_df.groupby(by=\"product_category_name\").agg({\n",
        "    \"order_id\": \"nunique\",\n",
        "    \"price\": \"sum\",\n",
        "}).sort_values(by=\"price\", ascending=False).reset_index().head(10)"
      ]
    },
    {
      "cell_type": "markdown",
      "metadata": {
        "id": "th_Lzl2Fkj9O"
      },
      "source": [
        "**Insight:**\n",
        "- Customer lebih suka melakukan pembayaran menggunakan Credit Card dan memilih credit card untuk pembayaran yang lebih besar.\n",
        "- Product cama_mesa_banho merupakan product yang paling sering digunakan, sedangkan product penyumbang revenue tertinggi yaitu product beleza_saude"
      ]
    },
    {
      "cell_type": "markdown",
      "metadata": {
        "id": "zsyZjqak8DC2"
      },
      "source": [
        "## Visualization & Explanatory Analysis"
      ]
    },
    {
      "cell_type": "markdown",
      "metadata": {
        "id": "HZxOiQ6n8DC2"
      },
      "source": [
        "### Pertanyaan 1:"
      ]
    },
    {
      "cell_type": "code",
      "execution_count": 112,
      "metadata": {
        "colab": {
          "base_uri": "https://localhost:8080/",
          "height": 596
        },
        "id": "1swJUdAD8DC2",
        "outputId": "24e20afe-58c4-4a47-b4a3-c2dd0f75d298"
      },
      "outputs": [
        {
          "name": "stderr",
          "output_type": "stream",
          "text": [
            "C:\\Users\\vito.heryanto\\AppData\\Local\\Temp\\ipykernel_15492\\2827580282.py:10: FutureWarning: \n",
            "\n",
            "Passing `palette` without assigning `hue` is deprecated and will be removed in v0.14.0. Assign the `x` variable to `hue` and set `legend=False` for the same effect.\n",
            "\n",
            "  sns.barplot(\n",
            "C:\\Users\\vito.heryanto\\AppData\\Local\\Temp\\ipykernel_15492\\2827580282.py:10: UserWarning: The palette list has more values (5) than needed (4), which may not be intended.\n",
            "  sns.barplot(\n"
          ]
        },
        {
          "data": {
            "image/png": "[encoded data removed]",
            "text/plain": [
              "<Figure size 1000x500 with 1 Axes>"
            ]
          },
          "metadata": {},
          "output_type": "display_data"
        }
      ],
      "source": [
        "bypayment_df = order_payment_df.groupby(by=\"payment_type\").order_id.nunique().reset_index()\n",
        "bypayment_df.rename(columns={\n",
        "    \"order_id\": \"order_count\"\n",
        "}, inplace=True)\n",
        "bypayment_df\n",
        "bypayment_df['payment_type'] = pd.Categorical(bypayment_df['payment_type'], [\"boleto\", \"credit_card\", \"debit_card\",\"voucher\"])\n",
        "plt.figure(figsize=(10, 5))\n",
        "colors_ = [\"#D3D3D3\", \"#87CEFA\", \"#D3D3D3\", \"#D3D3D3\", \"#D3D3D3\"]\n",
        "\n",
        "sns.barplot(\n",
        "    y=\"order_count\",\n",
        "    x=\"payment_type\",\n",
        "    data=bypayment_df.sort_values(by=\"payment_type\", ascending=False),\n",
        "    palette=colors_\n",
        ")\n",
        "plt.title(\"Type Payment\", loc=\"center\", fontsize=15)\n",
        "plt.ylabel(None)\n",
        "plt.xlabel(None)\n",
        "plt.tick_params(axis='x', labelsize=12)\n",
        "plt.show()"
      ]
    },
    {
      "cell_type": "markdown",
      "metadata": {
        "id": "DgHI7CiU8DC2"
      },
      "source": [
        "### Pertanyaan 2:"
      ]
    },
    {
      "cell_type": "markdown",
      "metadata": {
        "id": "47yuBt2Ur2jE"
      },
      "source": []
    },
    {
      "cell_type": "code",
      "execution_count": 113,
      "metadata": {
        "colab": {
          "base_uri": "https://localhost:8080/",
          "height": 707
        },
        "id": "Go0lCsvO8DC2",
        "outputId": "113d981d-27b2-4186-ea88-fc19a15d26ef"
      },
      "outputs": [
        {
          "name": "stderr",
          "output_type": "stream",
          "text": [
            "C:\\Users\\vito.heryanto\\AppData\\Local\\Temp\\ipykernel_15492\\2985897728.py:7: FutureWarning: \n",
            "\n",
            "Passing `palette` without assigning `hue` is deprecated and will be removed in v0.14.0. Assign the `y` variable to `hue` and set `legend=False` for the same effect.\n",
            "\n",
            "  sns.barplot(x=\"order_id\", y=\"product_category_name\", data=byproduct_df.sort_values(by =\"order_id\", ascending=False).head(5), palette=colors, ax=ax[0])\n",
            "C:\\Users\\vito.heryanto\\AppData\\Local\\Temp\\ipykernel_15492\\2985897728.py:13: FutureWarning: \n",
            "\n",
            "Passing `palette` without assigning `hue` is deprecated and will be removed in v0.14.0. Assign the `y` variable to `hue` and set `legend=False` for the same effect.\n",
            "\n",
            "  sns.barplot(x=\"order_id\", y=\"product_category_name\", data=byproduct_df.sort_values(by=\"order_id\", ascending=True).head(5), palette=colors, ax=ax[1])\n"
          ]
        },
        {
          "data": {
            "image/png": "[encoded data removed]",
            "text/plain": [
              "<Figure size 2400x600 with 2 Axes>"
            ]
          },
          "metadata": {},
          "output_type": "display_data"
        }
      ],
      "source": [
        "fig, ax = plt.subplots(nrows=1, ncols=2, figsize=(24, 6))\n",
        "\n",
        "colors = [\"#87CEFA\", \"#D3D3D3\", \"#D3D3D3\", \"#D3D3D3\", \"#D3D3D3\"]\n",
        "\n",
        "byproduct_df = order_product_df.groupby(by=\"product_category_name\").order_id.nunique().reset_index()\n",
        "\n",
        "sns.barplot(x=\"order_id\", y=\"product_category_name\", data=byproduct_df.sort_values(by =\"order_id\", ascending=False).head(5), palette=colors, ax=ax[0])\n",
        "ax[0].set_ylabel(None)\n",
        "ax[0].set_xlabel(None)\n",
        "ax[0].set_title(\"Best Performing Product\", loc=\"center\", fontsize=15)\n",
        "ax[0].tick_params(axis ='y', labelsize=12)\n",
        "\n",
        "sns.barplot(x=\"order_id\", y=\"product_category_name\", data=byproduct_df.sort_values(by=\"order_id\", ascending=True).head(5), palette=colors, ax=ax[1])\n",
        "ax[1].set_ylabel(None)\n",
        "ax[1].set_xlabel(None)\n",
        "ax[1].invert_xaxis()\n",
        "ax[1].yaxis.set_label_position(\"right\")\n",
        "ax[1].yaxis.tick_right()\n",
        "ax[1].set_title(\"Worst Performing Product\", loc=\"center\", fontsize=15)\n",
        "ax[1].tick_params(axis='y', labelsize=12)\n",
        "\n",
        "plt.suptitle(\"Best and Worst Performing Product by Number of Sales\", fontsize=20)\n",
        "plt.show()"
      ]
    },
    {
      "cell_type": "markdown",
      "metadata": {
        "id": "ceavef_xr9bi"
      },
      "source": [
        "### Pertanyaan 3:"
      ]
    },
    {
      "cell_type": "code",
      "execution_count": 114,
      "metadata": {
        "colab": {
          "base_uri": "https://localhost:8080/",
          "height": 511
        },
        "id": "pJHSeR9RWaL9",
        "outputId": "feab270e-d5b7-4bdf-8c20-9826012fdc9f"
      },
      "outputs": [
        {
          "name": "stderr",
          "output_type": "stream",
          "text": [
            "C:\\Users\\vito.heryanto\\AppData\\Local\\Temp\\ipykernel_15492\\2362914523.py:1: FutureWarning: 'M' is deprecated and will be removed in a future version, please use 'ME' instead.\n",
            "  monthly_orders_df = order_customer_payment_df.resample(rule='M', on='order_purchase_timestamp').agg({\n"
          ]
        },
        {
          "data": {
            "image/png": "[encoded data removed]",
            "text/plain": [
              "<Figure size 2000x500 with 1 Axes>"
            ]
          },
          "metadata": {},
          "output_type": "display_data"
        }
      ],
      "source": [
        "monthly_orders_df = order_customer_payment_df.resample(rule='M', on='order_purchase_timestamp').agg({\n",
        "    \"order_id\": \"nunique\",\n",
        "    \"payment_value\": \"sum\"\n",
        "})\n",
        "monthly_orders_df.index = monthly_orders_df.index.strftime('%Y-%m') #mengubah format order date menjadi nama bulan\n",
        "\n",
        "monthly_orders_df = monthly_orders_df.reset_index()\n",
        "monthly_orders_df.rename(columns={\n",
        "    \"order_id\": \"order_count\",\n",
        "    \"payment_value\": \"revenue\"\n",
        "}, inplace=True)\n",
        "\n",
        "plt.figure(figsize=(20, 5))\n",
        "plt.plot(\n",
        "    monthly_orders_df[\"order_purchase_timestamp\"],\n",
        "    monthly_orders_df[\"revenue\"],\n",
        "    marker='o',\n",
        "    linewidth=2,\n",
        "    color=\"#72BCD4\"\n",
        ")\n",
        "plt.title(\"Total Revenue per Month (2016-2018)\", loc=\"center\", fontsize=20)\n",
        "plt.xticks(fontsize=10)\n",
        "plt.yticks(fontsize=10)\n",
        "plt.show()"
      ]
    },
    {
      "cell_type": "markdown",
      "metadata": {
        "id": "_0-36BDLklRg"
      },
      "source": [
        "**Insight:**\n",
        "- Di dapat pada grafik pertama menunjukkan pembayaran customer dominan dilakukan menggunakan Credit Card di tandai warna biru.\n",
        "- Pada Grafik yang kedua menampilkan product yang paling banyak diorder yaitu cama_mesa_banho\tyang di tandai pada grafik sebelah kiri warna biru dan product yang paling sedikit di order yaitu seguros_e_servicos yang ditandai pada grafik sebelah kanan warna biru.'\n",
        "- Pada grafik yang ketiga menampilkan revenue perusahaan yang dimana mencapai tertinggi pada bulan Nov tahun 2017"
      ]
    },
    {
      "cell_type": "markdown",
      "metadata": {
        "id": "9y4VUsmcYNZ5"
      },
      "source": [
        "## Analisis Lanjutan (Opsional) Menjawab pertanyaan no. 4, 5, 6."
      ]
    },
    {
      "cell_type": "code",
      "execution_count": 115,
      "metadata": {
        "colab": {
          "base_uri": "https://localhost:8080/",
          "height": 677
        },
        "id": "iWhnzsJGYUCO",
        "outputId": "8baf4051-5a1a-4cc3-941d-aaa78b17946b"
      },
      "outputs": [
        {
          "data": {
            "text/html": [
              "<div>\n",
              "<style scoped>\n",
              "    .dataframe tbody tr th:only-of-type {\n",
              "        vertical-align: middle;\n",
              "    }\n",
              "\n",
              "    .dataframe tbody tr th {\n",
              "        vertical-align: top;\n",
              "    }\n",
              "\n",
              "    .dataframe thead th {\n",
              "        text-align: right;\n",
              "    }\n",
              "</style>\n",
              "<table border=\"1\" class=\"dataframe\">\n",
              "  <thead>\n",
              "    <tr style=\"text-align: right;\">\n",
              "      <th></th>\n",
              "      <th>customer_id</th>\n",
              "      <th>frequency</th>\n",
              "      <th>monetary</th>\n",
              "      <th>recency</th>\n",
              "    </tr>\n",
              "  </thead>\n",
              "  <tbody>\n",
              "    <tr>\n",
              "      <th>0</th>\n",
              "      <td>00012a2ce6f8dcda20d059ce98491703</td>\n",
              "      <td>1</td>\n",
              "      <td>114.74</td>\n",
              "      <td>337</td>\n",
              "    </tr>\n",
              "    <tr>\n",
              "      <th>1</th>\n",
              "      <td>000161a058600d5901f007fab4c27140</td>\n",
              "      <td>1</td>\n",
              "      <td>67.41</td>\n",
              "      <td>458</td>\n",
              "    </tr>\n",
              "    <tr>\n",
              "      <th>2</th>\n",
              "      <td>0001fd6190edaaf884bcaf3d49edf079</td>\n",
              "      <td>1</td>\n",
              "      <td>195.42</td>\n",
              "      <td>596</td>\n",
              "    </tr>\n",
              "    <tr>\n",
              "      <th>3</th>\n",
              "      <td>0002414f95344307404f0ace7a26f1d5</td>\n",
              "      <td>1</td>\n",
              "      <td>179.35</td>\n",
              "      <td>427</td>\n",
              "    </tr>\n",
              "    <tr>\n",
              "      <th>4</th>\n",
              "      <td>000379cdec625522490c315e70c7a9fb</td>\n",
              "      <td>1</td>\n",
              "      <td>107.01</td>\n",
              "      <td>198</td>\n",
              "    </tr>\n",
              "    <tr>\n",
              "      <th>5</th>\n",
              "      <td>0004164d20a9e969af783496f3408652</td>\n",
              "      <td>1</td>\n",
              "      <td>71.80</td>\n",
              "      <td>553</td>\n",
              "    </tr>\n",
              "    <tr>\n",
              "      <th>6</th>\n",
              "      <td>000419c5494106c306a97b5635748086</td>\n",
              "      <td>1</td>\n",
              "      <td>49.40</td>\n",
              "      <td>229</td>\n",
              "    </tr>\n",
              "    <tr>\n",
              "      <th>7</th>\n",
              "      <td>00046a560d407e99b969756e0b10f282</td>\n",
              "      <td>1</td>\n",
              "      <td>166.59</td>\n",
              "      <td>303</td>\n",
              "    </tr>\n",
              "    <tr>\n",
              "      <th>8</th>\n",
              "      <td>00050bf6e01e69d5c0fd612f1bcfb69c</td>\n",
              "      <td>1</td>\n",
              "      <td>85.23</td>\n",
              "      <td>395</td>\n",
              "    </tr>\n",
              "    <tr>\n",
              "      <th>9</th>\n",
              "      <td>000598caf2ef4117407665ac33275130</td>\n",
              "      <td>1</td>\n",
              "      <td>1255.71</td>\n",
              "      <td>67</td>\n",
              "    </tr>\n",
              "    <tr>\n",
              "      <th>10</th>\n",
              "      <td>0005aefbb696d34b3424dccd0a0e9fd0</td>\n",
              "      <td>1</td>\n",
              "      <td>147.33</td>\n",
              "      <td>119</td>\n",
              "    </tr>\n",
              "    <tr>\n",
              "      <th>11</th>\n",
              "      <td>00062b33cb9f6fe976afdcff967ea74d</td>\n",
              "      <td>1</td>\n",
              "      <td>58.95</td>\n",
              "      <td>581</td>\n",
              "    </tr>\n",
              "    <tr>\n",
              "      <th>12</th>\n",
              "      <td>00066ccbe787a588c52bd5ff404590e3</td>\n",
              "      <td>1</td>\n",
              "      <td>1080.00</td>\n",
              "      <td>253</td>\n",
              "    </tr>\n",
              "    <tr>\n",
              "      <th>13</th>\n",
              "      <td>00072d033fe2e59061ae5c3aff1a2be5</td>\n",
              "      <td>1</td>\n",
              "      <td>106.97</td>\n",
              "      <td>411</td>\n",
              "    </tr>\n",
              "    <tr>\n",
              "      <th>14</th>\n",
              "      <td>0009a69b72033b2d0ec8c69fc70ef768</td>\n",
              "      <td>1</td>\n",
              "      <td>173.60</td>\n",
              "      <td>537</td>\n",
              "    </tr>\n",
              "    <tr>\n",
              "      <th>15</th>\n",
              "      <td>000bf8121c3412d3057d32371c5d3395</td>\n",
              "      <td>1</td>\n",
              "      <td>91.12</td>\n",
              "      <td>371</td>\n",
              "    </tr>\n",
              "    <tr>\n",
              "      <th>16</th>\n",
              "      <td>000e943451fc2788ca6ac98a682f2f49</td>\n",
              "      <td>1</td>\n",
              "      <td>106.23</td>\n",
              "      <td>545</td>\n",
              "    </tr>\n",
              "    <tr>\n",
              "      <th>17</th>\n",
              "      <td>000f17e290c26b28549908a04cfe36c1</td>\n",
              "      <td>1</td>\n",
              "      <td>139.52</td>\n",
              "      <td>341</td>\n",
              "    </tr>\n",
              "    <tr>\n",
              "      <th>18</th>\n",
              "      <td>000fd45d6fedae68fc6676036610f879</td>\n",
              "      <td>1</td>\n",
              "      <td>66.81</td>\n",
              "      <td>185</td>\n",
              "    </tr>\n",
              "    <tr>\n",
              "      <th>19</th>\n",
              "      <td>0010068a73b7c56da5758c3f9e5c7375</td>\n",
              "      <td>1</td>\n",
              "      <td>54.83</td>\n",
              "      <td>554</td>\n",
              "    </tr>\n",
              "  </tbody>\n",
              "</table>\n",
              "</div>"
            ],
            "text/plain": [
              "                         customer_id  frequency  monetary  recency\n",
              "0   00012a2ce6f8dcda20d059ce98491703          1    114.74      337\n",
              "1   000161a058600d5901f007fab4c27140          1     67.41      458\n",
              "2   0001fd6190edaaf884bcaf3d49edf079          1    195.42      596\n",
              "3   0002414f95344307404f0ace7a26f1d5          1    179.35      427\n",
              "4   000379cdec625522490c315e70c7a9fb          1    107.01      198\n",
              "5   0004164d20a9e969af783496f3408652          1     71.80      553\n",
              "6   000419c5494106c306a97b5635748086          1     49.40      229\n",
              "7   00046a560d407e99b969756e0b10f282          1    166.59      303\n",
              "8   00050bf6e01e69d5c0fd612f1bcfb69c          1     85.23      395\n",
              "9   000598caf2ef4117407665ac33275130          1   1255.71       67\n",
              "10  0005aefbb696d34b3424dccd0a0e9fd0          1    147.33      119\n",
              "11  00062b33cb9f6fe976afdcff967ea74d          1     58.95      581\n",
              "12  00066ccbe787a588c52bd5ff404590e3          1   1080.00      253\n",
              "13  00072d033fe2e59061ae5c3aff1a2be5          1    106.97      411\n",
              "14  0009a69b72033b2d0ec8c69fc70ef768          1    173.60      537\n",
              "15  000bf8121c3412d3057d32371c5d3395          1     91.12      371\n",
              "16  000e943451fc2788ca6ac98a682f2f49          1    106.23      545\n",
              "17  000f17e290c26b28549908a04cfe36c1          1    139.52      341\n",
              "18  000fd45d6fedae68fc6676036610f879          1     66.81      185\n",
              "19  0010068a73b7c56da5758c3f9e5c7375          1     54.83      554"
            ]
          },
          "execution_count": 115,
          "metadata": {},
          "output_type": "execute_result"
        }
      ],
      "source": [
        "rfm_df = order_customer_payment_df.groupby(by=\"customer_id\", as_index=False).agg({\n",
        "    \"order_purchase_timestamp\": \"max\", # mengambil tanggal order terakhir\n",
        "    \"order_id\": \"nunique\", # menghitung jumlah order\n",
        "    \"payment_value\": \"sum\" # menghitung jumlah revenue yang dihasilkan\n",
        "})\n",
        "rfm_df.columns = [\"customer_id\", \"max_order_timestamp\", \"frequency\", \"monetary\"]\n",
        "\n",
        "# menghitung kapan terakhir pelanggan melakukan transaksi (hari)\n",
        "rfm_df[\"max_order_timestamp\"] = rfm_df[\"max_order_timestamp\"].dt.date\n",
        "recent_date = order_df[\"order_purchase_timestamp\"].dt.date.max()\n",
        "rfm_df[\"recency\"] = rfm_df[\"max_order_timestamp\"].apply(lambda x: (recent_date - x).days)\n",
        "\n",
        "rfm_df.drop(\"max_order_timestamp\", axis=1, inplace=True)\n",
        "rfm_df.head(20).sort_values(by=\"frequency\", ascending=False)"
      ]
    },
    {
      "cell_type": "code",
      "execution_count": 116,
      "metadata": {
        "colab": {
          "base_uri": "https://localhost:8080/",
          "height": 1000
        },
        "id": "Pm-1XM5aiYV0",
        "outputId": "8b0e936c-3cf9-4af5-ede1-88da5043eea5"
      },
      "outputs": [
        {
          "name": "stderr",
          "output_type": "stream",
          "text": [
            "C:\\Users\\vito.heryanto\\AppData\\Local\\Temp\\ipykernel_15492\\16019198.py:5: FutureWarning: \n",
            "\n",
            "Passing `palette` without assigning `hue` is deprecated and will be removed in v0.14.0. Assign the `x` variable to `hue` and set `legend=False` for the same effect.\n",
            "\n",
            "  sns.barplot(y=\"recency\", x=\"customer_id\", data=rfm_df.sort_values(by=\"recency\", ascending=True).head(5), palette=colors, ax=ax[0])\n",
            "C:\\Users\\vito.heryanto\\AppData\\Local\\Temp\\ipykernel_15492\\16019198.py:12: FutureWarning: \n",
            "\n",
            "Passing `palette` without assigning `hue` is deprecated and will be removed in v0.14.0. Assign the `x` variable to `hue` and set `legend=False` for the same effect.\n",
            "\n",
            "  sns.barplot(y=\"frequency\", x=\"customer_id\", data=rfm_df.sort_values(by=\"frequency\", ascending=False).head(5), palette=colors, ax=ax[1])\n",
            "C:\\Users\\vito.heryanto\\AppData\\Local\\Temp\\ipykernel_15492\\16019198.py:18: FutureWarning: \n",
            "\n",
            "Passing `palette` without assigning `hue` is deprecated and will be removed in v0.14.0. Assign the `x` variable to `hue` and set `legend=False` for the same effect.\n",
            "\n",
            "  sns.barplot(y=\"monetary\", x=\"customer_id\", data=rfm_df.sort_values(by=\"monetary\", ascending=False).head(5), palette=colors, ax=ax[2])\n"
          ]
        },
        {
          "data": {
            "image/png": "[encoded data removed]",
            "text/plain": [
              "<Figure size 3000x600 with 3 Axes>"
            ]
          },
          "metadata": {},
          "output_type": "display_data"
        }
      ],
      "source": [
        "fig, ax = plt.subplots(nrows=1, ncols=3, figsize=(30, 6))\n",
        "\n",
        "colors = [\"#72BCD4\", \"#72BCD4\", \"#72BCD4\", \"#72BCD4\", \"#72BCD4\"]\n",
        "\n",
        "sns.barplot(y=\"recency\", x=\"customer_id\", data=rfm_df.sort_values(by=\"recency\", ascending=True).head(5), palette=colors, ax=ax[0])\n",
        "ax[0].set_ylabel(None)\n",
        "ax[0].set_xlabel(None)\n",
        "ax[0].set_title(\"By Recency (days)\", loc=\"center\", fontsize=18)\n",
        "ax[0].tick_params(axis ='x', labelsize=15, rotation = 45)\n",
        "\n",
        "\n",
        "sns.barplot(y=\"frequency\", x=\"customer_id\", data=rfm_df.sort_values(by=\"frequency\", ascending=False).head(5), palette=colors, ax=ax[1])\n",
        "ax[1].set_ylabel(None)\n",
        "ax[1].set_xlabel(None)\n",
        "ax[1].set_title(\"By Frequency\", loc=\"center\", fontsize=18)\n",
        "ax[1].tick_params(axis='x', labelsize=15, rotation = 45)\n",
        "\n",
        "sns.barplot(y=\"monetary\", x=\"customer_id\", data=rfm_df.sort_values(by=\"monetary\", ascending=False).head(5), palette=colors, ax=ax[2])\n",
        "ax[2].set_ylabel(None)\n",
        "ax[2].set_xlabel(None)\n",
        "ax[2].set_title(\"By Monetary\", loc=\"center\", fontsize=18)\n",
        "ax[2].tick_params(axis='x', labelsize=15, rotation = 45)\n",
        "\n",
        "\n",
        "\n",
        "plt.suptitle(\"Best Customer Based on RFM Parameters (customer_id)\", fontsize=20)\n",
        "plt.show()"
      ]
    },
    {
      "cell_type": "markdown",
      "metadata": {
        "id": "_WeHlCeX8DC2"
      },
      "source": [
        "## Conclusion"
      ]
    },
    {
      "cell_type": "markdown",
      "metadata": {
        "id": "ZTcyR48Y8DC2"
      },
      "source": [
        "1. Type pembayaran yang paling banyak di pilih oleh customer?\n",
        "Pada visualisation data, di dapat metode pembayaran Credit Card yang paling banyak di pilih oleh customer.\n",
        "2. Product apa yang paling banyak di order dan paling sedikit di order?\n",
        "Pada Grafik yang kedua menampilkan product yang paling banyak diorder yaitu cama_mesa_banho yang di tandai pada grafik sebelah kiri warna biru dan product yang paling sedikit di order yaitu seguros_e_servicos yang ditandai pada grafik sebelah kanan warna biru.\n",
        "3. Bagaimana performa penjualan dan revenue perusahaan dalam beberapa bulan terakhir?\n",
        "Pada grafik yang ketiga menampilkan revenue perusahaan yang dimana mencapai tertinggi pada bulan Nov tahun 2017 dan cenderung landai hingga Agustus 2018.\n",
        "4. Kapan terakhir pelanggan melakukan transaksi?\n",
        "Bisa di lihat pada tabel RFM sebelah kiri.\n",
        "5. Seberapa sering seorang pelanggan melakukan pembelian dalam beberapa bulan terakhir?\n",
        "Bisa di lihat pada tabel RFM di tengah.\n",
        "6. Berapa banyak uang yang dihabiskan pelanggan dalam beberapa bulan terakhir?\n",
        "Bisa di lihat pada tabel RFM sebelah kanan.\n"
      ]
    }
  ],
  "metadata": {
    "colab": {
      "collapsed_sections": [
        "FHSiqaZp8DC1"
      ],
      "provenance": [],
      "toc_visible": true
    },
    "kernelspec": {
      "display_name": "Python 3",
      "language": "python",
      "name": "python3"
    },
    "language_info": {
      "codemirror_mode": {
        "name": "ipython",
        "version": 3
      },
      "file_extension": ".py",
      "mimetype": "text/x-python",
      "name": "python",
      "nbconvert_exporter": "python",
      "pygments_lexer": "ipython3",
      "version": "3.12.8"
    },
    "orig_nbformat": 4,
    "vscode": {
      "interpreter": {
        "hash": "972b3bf27e332e87b5379f2791f6ef9dfc79c71018c370b0d7423235e20fe4d7"
      }
    }
  },
  "nbformat": 4,
  "nbformat_minor": 0
}
